{
  "nbformat": 4,
  "nbformat_minor": 0,
  "metadata": {
    "colab": {
      "provenance": []
    },
    "kernelspec": {
      "name": "python3",
      "display_name": "Python 3"
    },
    "language_info": {
      "name": "python"
    }
  },
  "cells": [
    {
      "cell_type": "markdown",
      "source": [
        "# Homework 3\n",
        "In this notebook there are the solutions for the Homework 3  \n",
        "Gianluca Procopio - 1942103  \n",
        "Andrea Polidori - 2143429  \n",
        "Lorenzo Incoronato - 1916863  \n",
        "Riccardo Violano - 2148833\n"
      ],
      "metadata": {
        "id": "Wb2zj3Wse6F3"
      }
    },
    {
      "cell_type": "markdown",
      "source": [
        "## Useful libraries"
      ],
      "metadata": {
        "id": "iOecsVYrHRGa"
      }
    },
    {
      "cell_type": "code",
      "source": [
        "!pip install selenium"
      ],
      "metadata": {
        "id": "ePAYRw6XgTAJ"
      },
      "execution_count": null,
      "outputs": []
    },
    {
      "cell_type": "code",
      "source": [
        "import csv\n",
        "from bs4 import BeautifulSoup\n",
        "import os\n",
        "from selenium import webdriver\n",
        "from selenium.webdriver.common.by import By\n",
        "import pandas as pd\n",
        "import re\n",
        "import numpy as np\n",
        "import nltk\n",
        "import requests\n",
        "import string\n",
        "from nltk.corpus import stopwords\n",
        "from nltk.tokenize import word_tokenize\n",
        "from nltk.stem import PorterStemmer\n",
        "from nltk.tokenize import RegexpTokenizer"
      ],
      "metadata": {
        "id": "qV35BkG6HTqD"
      },
      "execution_count": 85,
      "outputs": []
    },
    {
      "cell_type": "markdown",
      "source": [
        "## Some useful constants"
      ],
      "metadata": {
        "id": "q0yp9w2LloAI"
      }
    },
    {
      "cell_type": "markdown",
      "source": [
        "Working on my local machine I created a file called _constants.py_ which contains every constant we used in our work."
      ],
      "metadata": {
        "id": "Rs4uFQO7l0fZ"
      }
    },
    {
      "cell_type": "code",
      "source": [
        "CURRENCY_MAP = {\n",
        "    '$': 'USD',\n",
        "    '£': 'GBP',\n",
        "    '€': 'EUR',\n",
        "    '¥': 'JPY'\n",
        "}"
      ],
      "metadata": {
        "id": "nrMjvcaHlqFy"
      },
      "execution_count": 86,
      "outputs": []
    },
    {
      "cell_type": "markdown",
      "source": [
        "## Filter useless warning"
      ],
      "metadata": {
        "id": "VPGMj0MLnzzT"
      }
    },
    {
      "cell_type": "markdown",
      "source": [
        "This is a short snippet that allows us to do not show any warning."
      ],
      "metadata": {
        "id": "-jAnrqGgn9PS"
      }
    },
    {
      "cell_type": "code",
      "source": [
        "import warnings\n",
        "\n",
        "warnings.filterwarnings(\"ignore\")"
      ],
      "metadata": {
        "id": "U3PxMIt3n2W7"
      },
      "execution_count": 87,
      "outputs": []
    },
    {
      "cell_type": "markdown",
      "source": [
        "# 1. Data Collection"
      ],
      "metadata": {
        "id": "4lUtxQ5jhn3p"
      }
    },
    {
      "cell_type": "markdown",
      "source": [
        "Notice that, as suggested, all the scripts are in a separate folder, in order to streamline the notebook and keep it tidy. Below there is an explanation of how we solved the first excercise."
      ],
      "metadata": {
        "id": "3pJaYESmso9O"
      }
    },
    {
      "cell_type": "markdown",
      "source": [
        "## 1.1 Get the list of master's degree courses"
      ],
      "metadata": {
        "id": "FS8E4E1cidYA"
      }
    },
    {
      "cell_type": "markdown",
      "source": [
        "In order to get the list of links for each master course, I used Selenium. Selenium, with its WebDriver, is used to simulate and to automate the use of a browser. So I used it to navigate over the pages to collect all the links.  \n",
        "To navigate around the pages I took advantage of the _route_ used for each page button (at the bottom of the webpage). In fact, by inspecting the next page button, I saw its href=\"/masters-degrees/msc-degrees/?PG=2\".  \n",
        "Given this route and by looking at the website link (www.findamasters.com/masters-degrees/msc-degrees/), I understood that for each page the only changing part in the link was '?PG=x' at the end, so by changing the link as following 'edit_URL = URL + '?PG=' + str(i)' I could easly navigate over the pages.\n",
        "\n",
        "\n",
        "For each page, I analyzed the HTML source code and selected all the links thanks to their classname ('driver.find_elements(By.CLASS_NAME,\"courseLink\")') using 'By', a Selenium module that allows me locate elements within a document. Then, I iterated over all the elements found and added them in a 'link.txt' file."
      ],
      "metadata": {
        "id": "PCZ4xbRKRE4B"
      }
    },
    {
      "cell_type": "markdown",
      "source": [
        "## 1.2 Crawl master's degree pages"
      ],
      "metadata": {
        "id": "usWR3ty4ikAX"
      }
    },
    {
      "cell_type": "markdown",
      "source": [
        "To perform the second answer I needed Selenium and OS. OS is a python module that provides functions for interacting with the operating system, in this case it allows me to create new folders. In fact, as requested in the homework, I created a folder called 'pages', inside which I created 400  folders named 'page_i' (with i between 1 and 400), each one containing the 15 masters' source html code (in the end we will have 400 folders with 15 html files per folder, so in total 6000 html files).  \n",
        "Retrieving the source code was possible thanks to 'driver.page_source', a method provided by Selenium. In the end I wrote each source code in a html file."
      ],
      "metadata": {
        "id": "y8YBvK8XsUlm"
      }
    },
    {
      "cell_type": "markdown",
      "source": [
        "## 1.3 Parse downloaded pages"
      ],
      "metadata": {
        "id": "8YWyQy4iiqJI"
      }
    },
    {
      "cell_type": "markdown",
      "source": [
        "In this last part of the exercise I had to create a TSV file for each master. To parse the HTML code I took advantage of 'BeautifulSoup', a python package useful for parsing HTML code.  \n",
        "In order to get or the needed information first of all I analyzed the html source code and for each information I looked for the container inside which it's stored. Once identified the container, I looked for useful information like class or id that can help me identifying the correct text, and then I extracted the text by using some methods provided by Beautiful Soup, such as soup.find(...) or soup.select(..). In the end, I create a TSV file 'course_i.tsv' containing all the retrieved informations about a master course.\n",
        "All these TSV files are stored in a 'tsv' folder.\n",
        "\n",
        "In the last part of the code I merged all the 'course_i.tsv' file in 'master.tsv' which is the full dataset."
      ],
      "metadata": {
        "id": "y_WJKGgYzHIF"
      }
    },
    {
      "cell_type": "markdown",
      "source": [
        "# 2. Search Engine"
      ],
      "metadata": {
        "id": "wH2eUMOXhwW5"
      }
    },
    {
      "cell_type": "markdown",
      "source": [
        "First of all, I need the dataset."
      ],
      "metadata": {
        "id": "bRGHfhN0Getg"
      }
    },
    {
      "cell_type": "code",
      "source": [
        "from google.colab import drive\n",
        "drive.mount('/content/drive')"
      ],
      "metadata": {
        "id": "y6PJiYS9xsUJ"
      },
      "execution_count": null,
      "outputs": []
    },
    {
      "cell_type": "code",
      "source": [
        "tsv_path = \"/content/drive/MyDrive/hw3_adm/master.tsv\"\n",
        "\n",
        "masters = pd.read_csv(tsv_path, delimiter='\\t')"
      ],
      "metadata": {
        "id": "BWxeDUMBGkOV"
      },
      "execution_count": 89,
      "outputs": []
    },
    {
      "cell_type": "markdown",
      "source": [
        "## 2.0 Preprocessing"
      ],
      "metadata": {
        "id": "S4hBWynqixoj"
      }
    },
    {
      "cell_type": "markdown",
      "source": [
        "### 2.0.0 Preprocessing the text"
      ],
      "metadata": {
        "id": "B5AJryx0jNyW"
      }
    },
    {
      "cell_type": "markdown",
      "source": [
        "First, you must pre-process all the information collected for each MSc by:\n",
        "\n",
        "1. Removing stopwords\n",
        "2. Removing punctuation\n",
        "3. Stemming\n",
        "4. Anything else you think it's needed\n"
      ],
      "metadata": {
        "id": "NOxJheFeNDS6"
      }
    },
    {
      "cell_type": "markdown",
      "source": [
        "First of all I need to download all the resources needed, such as the 'stopwords' dataset to filter all the stopwords in the dataset, and the Punkt tokenizer models, it's a useful model provided by NLTK for tokenization. By downloading these resources, we ensure that NLTk can perform optimally all the  natural language processing tasks on the dataset."
      ],
      "metadata": {
        "id": "S2JkuBogTq9E"
      }
    },
    {
      "cell_type": "code",
      "source": [
        "nltk.download('stopwords')\n",
        "nltk.download('punkt')"
      ],
      "metadata": {
        "id": "Yctf-NIHR9-A"
      },
      "execution_count": null,
      "outputs": []
    },
    {
      "cell_type": "code",
      "source": [
        "pip install wordsegment"
      ],
      "metadata": {
        "id": "c40yJ3Fl4Zh9"
      },
      "execution_count": null,
      "outputs": []
    },
    {
      "cell_type": "code",
      "source": [
        "import pandas as pd\n",
        "from nltk.corpus import stopwords\n",
        "from nltk.stem import PorterStemmer\n",
        "import string\n",
        "import wordsegment\n",
        "\n",
        "# Solve problem of missclick about writing words\n",
        "wordsegment.load()\n",
        "\n",
        "lst_stopwords = set(stopwords.words('english'))\n",
        "\n",
        "ps = PorterStemmer()\n",
        "\n",
        "# function of preprocessing\n",
        "def process_text(text):\n",
        "    # Avoid Nan Value\n",
        "    if pd.isna(text):\n",
        "        return []\n",
        "    #punctuation\n",
        "    text = ''.join([char for char in str(text) if char not in string.punctuation])\n",
        "    # word segmentation\n",
        "    segmented_tokens = [segment for token in text.split() for segment in wordsegment.segment(token)]\n",
        "\n",
        "    # stemming\n",
        "    tokens = [ps.stem(word) for word in segmented_tokens if word.lower() not in lst_stopwords]\n",
        "\n",
        "    return tokens\n",
        "\n",
        "# We work only on description (more usefull)\n",
        "masters['descr_stem'] = masters['description'].apply(process_text)\n"
      ],
      "metadata": {
        "id": "A6HU11xTNVv_"
      },
      "execution_count": 92,
      "outputs": []
    },
    {
      "cell_type": "markdown",
      "source": [
        "Working on the 'duration' column, I'm going to fix some data."
      ],
      "metadata": {
        "id": "AzuS6BWGXSGL"
      }
    },
    {
      "cell_type": "code",
      "source": [
        "masters['duration'] = masters['duration'].str.lower()\n",
        "\n",
        "masters['duration'] = masters['duration'].str.replace('full-time', 'full time').str.replace('part-time', 'part time')\n",
        "\n",
        "masters.loc[(masters['duration'] == 'one year ft') | (masters['duration'] == '1 year ft') | (masters['duration'] == 'full time : 1 year')| (masters['duration'] == 'full time : one year'), 'duration'] = '1 year full-time'"
      ],
      "metadata": {
        "id": "iHreYLJkXhnj"
      },
      "execution_count": 93,
      "outputs": []
    },
    {
      "cell_type": "markdown",
      "source": [
        "I have to fix the 'url' column aswell."
      ],
      "metadata": {
        "id": "1bzUQZH5dm0H"
      }
    },
    {
      "cell_type": "code",
      "source": [
        "masters['url'] = masters['url'].str.replace(' ','')"
      ],
      "metadata": {
        "id": "ppXuWmbadvCS"
      },
      "execution_count": 94,
      "outputs": []
    },
    {
      "cell_type": "markdown",
      "source": [
        "### 2.0.1 Preprocessing the fees column"
      ],
      "metadata": {
        "id": "FJA9_C5CjRpc"
      }
    },
    {
      "cell_type": "markdown",
      "source": [
        "In order to preprocess the fees column first of all I removed all the punctuation and useless digits (such as academic years), so that in the fees column the only digits there were the fees' amounts.   \n",
        "\n",
        "Then through a regex I found all the combinations (currency, symbol or code, and amount in both orders). I casted all the amounts to float, so that I could easily get the higher fee for each master, and formatted all the values in the same way and converted all the currency symbol in their currency code through a map."
      ],
      "metadata": {
        "id": "s4avz5xUdH7F"
      }
    },
    {
      "cell_type": "code",
      "source": [
        "# my regex had problems with academic years, so I removed them.\n",
        "# strings like 202223, 20222023 will be removed\n",
        "def remove_academic_years(text):\n",
        "    # first remove useless punctuations\n",
        "    text=str(text).translate(str.maketrans(\"\", \"\", string.punctuation))\n",
        "    # delete all academic years\n",
        "    academic_year_pattern = r'\\b20\\d{4,6}\\b'\n",
        "    return re.sub(academic_year_pattern, '', str(text))\n",
        "\n",
        "#removed 'TBC' strings that gave me problem when I was searching the fees with the regex\n",
        "def remove_TBC(text):\n",
        "    short_word_pattern = r'\\b(?:TBC)\\b'\n",
        "    return re.sub(short_word_pattern, '', str(text))\n",
        "\n",
        "# in this function througha. regex I find all te combinations for the currency and amounts.\n",
        "def extract_currency_and_amount(fee):\n",
        "    currency_pattern = r'([A-Z]{3}|[£€¥$])\\s*([\\d,]+\\.?\\d*)|\\s*([\\d,]+\\.?\\d*)\\s*([A-Z]{3}|[£€¥$])'\n",
        "    matches = re.findall(currency_pattern, str(fee))\n",
        "\n",
        "    if matches:\n",
        "        extracted_values = [] # contains the fixed list of all the matches, because in the tuple of the matches there are some empty strings\n",
        "        for match in matches:\n",
        "            values = [item for item in match if item]\n",
        "            if len(values) == 2: # each match has only 2 elements: currency and amount\n",
        "                extracted_values.append(tuple(values))\n",
        "        if len(extracted_values) == 0: # case base\n",
        "            return []\n",
        "        res = [] # in the res variable will be stored the return value\n",
        "        for el in extracted_values:\n",
        "            if el[0].isdigit(): # if the first element in the tuple is digit, then the second is currency and will be converted if it's a symbol\n",
        "                cur = el[1]\n",
        "                if cur in '£€¥$': # is the currency is expressed as sybol, convert it through a map\n",
        "                    cur = CURRENCY_MAP[cur]\n",
        "                res.append((float(el[0]),cur))\n",
        "            else: # if the second element is digit, the first is currency and willl be converted\n",
        "                cur = el[0]\n",
        "                if cur in '£€¥$':\n",
        "                    cur = CURRENCY_MAP[cur]\n",
        "                res.append((float(el[1]),cur))\n",
        "        return res\n",
        "    else:\n",
        "        return []\n",
        "\n",
        "masters['fees'] = masters['fees'].apply(remove_TBC)\n",
        "masters['fees'] = masters['fees'].apply(remove_academic_years)\n",
        "masters['fees'] = masters['fees'].apply(extract_currency_and_amount)"
      ],
      "metadata": {
        "id": "jaOc2wTz-KpM"
      },
      "execution_count": 95,
      "outputs": []
    },
    {
      "cell_type": "markdown",
      "source": [
        "In the end I'm going to convert all the fees from the different currencies in USD, using the Open Exchange Rates API, as suggested from ChatGPT. To take advantage of this API I had to register and get my API key."
      ],
      "metadata": {
        "id": "7IQF3LOmx1Wo"
      }
    },
    {
      "cell_type": "markdown",
      "source": [
        "FIrst I need the exchange rates in real time, the free trial of this API allows me only to use as base currency the USD, so every amount will be converted to USD."
      ],
      "metadata": {
        "id": "qzNeRXBj1Hxy"
      }
    },
    {
      "cell_type": "code",
      "source": [
        "def get_exchange_rates(api_key, base_currency='USD'):\n",
        "    endpoint = f'https://open.er-api.com/v6/latest/{base_currency}'\n",
        "    params = {'apikey': api_key}\n",
        "    response = requests.get(endpoint, params=params)\n",
        "    data = response.json()\n",
        "    return data['rates']\n",
        "\n",
        "api_key = '76c3b4f3197a4390af5438f5cfb4b121'\n",
        "\n",
        "exchange_rates = get_exchange_rates(api_key)"
      ],
      "metadata": {
        "id": "XIu_Fkg61K_V"
      },
      "execution_count": 96,
      "outputs": []
    },
    {
      "cell_type": "markdown",
      "source": [
        "The *exchange_rates* variable contains a dictionary with the current change between a currency and the USD.\n",
        "\n",
        "In the end of this code, I wrote a function called 'convert_to_usd(..)' which took for each master the list of fees and its currencies, convert the amount in USD and take the highest value.\n",
        "\n",
        "so in the end the 'fees_usd' columns contains the highest fee expressed in USD. To keep the notebook clean and tidy i will show only the first 10 rows to give an idea of how the column looks like."
      ],
      "metadata": {
        "id": "TRrocPUe6FUL"
      }
    },
    {
      "cell_type": "code",
      "source": [
        "def convert_to_usd(row, exchange_rates, target_currency='USD'):\n",
        "    if len(row)==0:\n",
        "      return None\n",
        "    usd_fees = [] # contains all the fees converted\n",
        "    for amount, currency in row:\n",
        "        if currency in exchange_rates and amount is not None and amount != '':\n",
        "            # append to the list of fees the converted values\n",
        "            usd_fees.append(round(float(amount) / exchange_rates[currency] * exchange_rates[target_currency], 2))\n",
        "    highest = max(usd_fees) if len(usd_fees) > 0 else 0 # choose the highest fee among the converted ones.\n",
        "    return highest\n",
        "\n",
        "masters['fees_usd'] = masters['fees'].apply(lambda row: convert_to_usd(row, exchange_rates))\n",
        "print(masters['fees_usd'].iloc[:10])"
      ],
      "metadata": {
        "id": "nkjaBBgVQwAm",
        "colab": {
          "base_uri": "https://localhost:8080/"
        },
        "outputId": "d8a4218c-d4eb-42d3-bdf3-6fd009563ef6"
      },
      "execution_count": 97,
      "outputs": [
        {
          "output_type": "stream",
          "name": "stdout",
          "text": [
            "0         NaN\n",
            "1    43733.91\n",
            "2         NaN\n",
            "3         NaN\n",
            "4         NaN\n",
            "5    39014.42\n",
            "6    19668.82\n",
            "7    19668.82\n",
            "8         NaN\n",
            "9    16390.68\n",
            "Name: fees_usd, dtype: float64\n"
          ]
        }
      ]
    },
    {
      "cell_type": "markdown",
      "source": [
        "## 2.1 Conjunctive query"
      ],
      "metadata": {
        "id": "97KLWHZNixyD"
      }
    },
    {
      "cell_type": "markdown",
      "source": [
        "### 2.1.1 Create your index!"
      ],
      "metadata": {
        "id": "-JljX0eMjXuj"
      }
    },
    {
      "cell_type": "markdown",
      "source": [
        "To Use the two code after this cell, you have to create \"vocabulary.txt\" and \"inverted_index.txt\", in this way we can avoid to calculate them each time"
      ],
      "metadata": {
        "id": "UER3qxtH0Tkl"
      }
    },
    {
      "cell_type": "code",
      "source": [
        "import pandas as pd\n",
        "from collections import defaultdict\n",
        "#first create the dict where we will put all the words\n",
        "vocabulary = defaultdict(lambda: len(vocabulary))\n",
        "\n",
        "# Concat of all words\n",
        "all_words = masters['descr_stem'].apply(lambda x: x if isinstance(x, list) else [])\n",
        "\n",
        "\n",
        "for document in all_words:\n",
        "    for word in document:\n",
        "        _ = vocabulary[word]\n",
        "\n",
        "# Save\n",
        "with open(\"vocabulary.txt\", \"w\", encoding=\"utf-8\") as vocab_file:\n",
        "    for word, term_id in vocabulary.items():\n",
        "        vocab_file.write(f\"{word}\\t{term_id}\\n\")"
      ],
      "metadata": {
        "id": "mBIycqFO0RUi"
      },
      "execution_count": 98,
      "outputs": []
    },
    {
      "cell_type": "code",
      "source": [
        "import pandas as pd\n",
        "from collections import defaultdict\n",
        "#first create the dict where we will put all the words, we create the inverted like a set to avoid duplicate\n",
        "vocabulary = defaultdict(lambda: len(vocabulary))\n",
        "inverted_index = defaultdict(set)\n",
        "\n",
        "#construction of the inverted index\n",
        "for doc_id, document in enumerate(masters['descr_stem'].dropna().astype(object)):\n",
        "    for word in document:\n",
        "        term_id = vocabulary[word]\n",
        "        inverted_index[term_id].add(doc_id)\n",
        "\n",
        "# Save\n",
        "with open(\"inverted_index.txt\", \"w\", encoding=\"utf-8\") as index_file:\n",
        "    for term_id, doc_ids in inverted_index.items():\n",
        "        index_file.write(f\"{term_id} : {sorted(doc_ids)}\\n\")"
      ],
      "metadata": {
        "id": "Mxxv8Fmq0fsX"
      },
      "execution_count": 99,
      "outputs": []
    },
    {
      "cell_type": "markdown",
      "source": [
        "### 2.1.2 Execute the query"
      ],
      "metadata": {
        "id": "mb1Ngp3rjco8"
      }
    },
    {
      "cell_type": "code",
      "source": [
        "import pandas as pd\n",
        "\n",
        "# List to memorize\n",
        "data_list = []\n",
        "\n",
        "# Read inverted index file\n",
        "with open('inverted_index.txt', 'r') as file:\n",
        "    for line in file:\n",
        "        # Extraction\n",
        "        numbers_str = line.split(':')[1].strip()\n",
        "        numbers_str_cleaned = numbers_str.strip('[]').replace(',', '')\n",
        "        numbers_set = set(map(int, numbers_str_cleaned.split()))\n",
        "\n",
        "        data_list.append({'Number': int(line.split(':')[0].strip()), 'links': numbers_set})\n",
        "\n",
        "# Dataframe for inverted\n",
        "df_inverted = pd.DataFrame(data_list)\n",
        "df_inverted.set_index('Number', inplace=True)\n",
        "\n",
        "# Read vocabulary file\n",
        "df_vocabulary = pd.read_csv('vocabulary.txt', sep='\\t', names=['Word', 'Number'])\n",
        "df_vocabulary['Number'] = pd.to_numeric(df_vocabulary['Number'])\n",
        "\n",
        "# Merge dataframes\n",
        "df_merged = pd.merge(df_vocabulary, df_inverted, left_on='Number', right_index=True)"
      ],
      "metadata": {
        "id": "_d-Bg27iGAZ6"
      },
      "execution_count": 100,
      "outputs": []
    },
    {
      "cell_type": "markdown",
      "source": [
        "Query Research V1"
      ],
      "metadata": {
        "id": "0e-1dvKXKtu0"
      }
    },
    {
      "cell_type": "code",
      "source": [
        "from collections import defaultdict\n",
        "def Research1(Query):\n",
        "\n",
        "#we process the query to avoid the problem of punkt, stemming and all the other stuff\n",
        "  Query=process_text(Query)\n",
        "  Query=list(map(str.lower,Query))\n",
        "  linkss = set(range(6000))\n",
        "#we extract the doc_id of the words that we want, and we do an interction with the total of doc_id\n",
        "#in this way we are sure to have only the documents that have all the word of the Query\n",
        "  for j in Query:\n",
        "    temp_link=[]\n",
        "    search = df_merged[df_merged['Word'] == j]\n",
        "    for index, row in search.iterrows():\n",
        "        links_number = row['links']\n",
        "        temp = list(links_number)\n",
        "\n",
        "        temp_link.extend(temp)\n",
        "\n",
        "    temp_link=set(temp_link)\n",
        "    linkss=linkss.intersection(temp_link)\n",
        "\n",
        "\n",
        "#we filter the dataset for the output that we want\n",
        "  result_df = pd.DataFrame(columns=['courseName', 'universityName', 'description', 'url'])\n",
        "\n",
        "  for i in linkss:\n",
        "    goal = masters.loc[i, ['courseName', 'universityName', 'description', 'url']]\n",
        "    result_df = pd.concat([result_df, goal.to_frame().transpose()])\n",
        "\n",
        "\n",
        "  return(result_df)"
      ],
      "metadata": {
        "id": "FQe8ldjgGFc7"
      },
      "execution_count": 101,
      "outputs": []
    },
    {
      "cell_type": "code",
      "source": [
        "Query=['Advanced knowledge']\n",
        "Research1(Query)"
      ],
      "metadata": {
        "id": "66x8aFXuRhgh",
        "colab": {
          "base_uri": "https://localhost:8080/",
          "height": 757
        },
        "outputId": "36184801-8c76-4106-dda1-e342464629f5"
      },
      "execution_count": 102,
      "outputs": [
        {
          "output_type": "execute_result",
          "data": {
            "text/plain": [
              "                                             courseName  \\\n",
              "1                          Accounting and Finance - MSc   \n",
              "4                                        Addictions MSc   \n",
              "12                            Analytical Toxicology MSc   \n",
              "4108  Global Meetings and Events Management MSc / PGDip   \n",
              "2069                            Clinical Research - MSc   \n",
              "...                                                 ...   \n",
              "2002                          Clinical Geriatrics - MSc   \n",
              "2023                     Clinical Neuropsychology - MSc   \n",
              "2038                   Clinical Ophthalmic Practice MSc   \n",
              "2040                           Clinical Optometry - MSc   \n",
              "2047                            Clinical Pharmacy - MSc   \n",
              "\n",
              "                     universityName  \\\n",
              "1               University of Leeds   \n",
              "4             King’s College London   \n",
              "12            King’s College London   \n",
              "4108  University College Birmingham   \n",
              "2069             Cardiff University   \n",
              "...                             ...   \n",
              "2002             Cardiff University   \n",
              "2023          University of Bristol   \n",
              "2038      University College London   \n",
              "2040             Cardiff University   \n",
              "2047       University of Sunderland   \n",
              "\n",
              "                                                                                                                                                                                                                                                                                                                                                                                                                                                                                                                                                                                                                                                                                    description  \\\n",
              "1     Businesses and governments rely on sound financial knowledge to underpin their strategies for success.This course will kick-start your professional career, providing you with advanced knowledge of modern financial theories, accounting practices and controls, as well as an understanding of the organisational context.You'll cover fundamental topics such as corporate finance and corporate reporting. Optional modules will allow you specialise your knowledge, ranging from international business finance to forensic accounting. You’ll also be able to apply your learning to practical case studies and simulations to test your knowledge in genuine business scenarios.   \n",
              "4                                                      Join us for an online session for prospective students to find out about our MSc Addictions course. The online session will take placeWednesday 17th May 12 - 12.45pm.Book onlineOur Addiction Studies course provides postgraduate education in addictions, with a particular emphasis on recent biological, psychological and socio-environmental advances in the conceptualisation of drug use and addiction and its effective prevention. Your theoretical understanding of the subject will be positioned within the context of policy development, focusing on facilitating the transfer of knowledge and skills to the workplace.   \n",
              "12                                                                                                                                                                                                                                                                                                                                                                         The Analytical Toxicology MSc is a unique study course that integrates theoretical and practical aspects of analytical science with clinical and forensic toxicology. This course will provide you with a detailed knowledge and comprehensive understanding of advanced analytical toxicology and its applications.   \n",
              "4108                                                                                                                                                                                                                                                    Become part of an events industry worth an estimated £70 billion to the UK economy, offering hundreds of thousands of jobs across a huge range of sectors. Whether you dream of managing festivals, music and sporting events or high-profile conferences, meetings and exhibitions, our Global Meetings and Events Management postgraduate course will give you advanced knowledge and skills for higher level careers in this dynamic   \n",
              "2069                                                                                                                   This part-time, distance learning course offers extensive knowledge and expertise relevant to those working in clinical trials. Its is also suitable for those in a senior role in clinical research in a pharmaceutical, biotechnology, device, contract research or site management company or the NHS.The MSc in Clinical Research is designed to advance and enhance your career in Clinical Research in the pharmaceutical industry, health service, contract research organisations, regulatory authorities, data management organisations and in medical writing.   \n",
              "...                                                                                                                                                                                                                                                                                                                                                                                                                                                                                                                                                                                                                                                                                         ...   \n",
              "2002                                                                                                                                                                                                                                                                                                                                                                                                                                                       The MSc Clinical Geriatrics aims to equip healthcare professionals, who have a special interest in managing and leading care in older adults, with an advanced clinical knowledge of ageing in health and illness as they present in   \n",
              "2023                 Professional programmes in Clinical Neuropsychology have been offered within University of Bristol since 2010 and are delivered in partnership with North Bristol NHS Trust, which includes a large regional neurosciences and major trauma centre. Our Clinical courses aim to engage and inspire clinicians to enhance their skills in Clinical Neuropsychology and support entry on to the British Psychological Society's (BPS) Specialist Register of Clinical Neuropsychologists (SRCN). This MSc is accredited by the BPS and delivers the adult knowledge and practice component of the competency requirements for advanced training in clinical neuropsychology.   \n",
              "2038                                                                                                                                                                                                                                                                                  This programme will allow you to develop advanced knowledge of the eye, eye diseases and treatment and the research underpinning clinical practice. It is delivered by ophthalmologists, researchers and nurses who are at the forefront of ophthalmic research clinical practice at the Institute of Ophthalmology and Moorfields Eye Hospital Trust both institutions will be involved in the teaching.   \n",
              "2040                                                                                                                        The aim of this programme is to provide optometrists with the opportunity to undertake a challenging and rewarding Masters in Clinical Optometry that focuses on their personal development as professionals leading, managing and developing ophthalmic practice roles and models of care delivery.The MSc Clinical Optometry is designed for optometrists in primary, secondary and tertiary settings who wish to advance their knowledge base, and specialist clinical and leadership skills. You will become actively involved in the advancement of optometry.   \n",
              "2047                                                                                                                                                                                                                                                                             The Clinical Pharmacy MSc has been designed to align with the Royal Pharmaceutical Society (RPS) foundation and advanced practice frameworks and the RPS knowledge summary guides. Gain vital core skills and knowledge necessary to prepare for your role as an advanced pharmacist practitioner and utilise your portfolio assessments to be used towards building your RPS individual pharmacist portfolio.   \n",
              "\n",
              "                                                                                                                        url  \n",
              "1                            https://www.findamasters.com/masters-degrees/course/accounting-and-finance-msc/?i321d3232c3891  \n",
              "4                                       https://www.findamasters.com/masters-degrees/course/addictions-msc/?i132d4318c27100  \n",
              "12                           https://www.findamasters.com/masters-degrees/course/analytical-toxicology-msc/?i132d4846c14767  \n",
              "4108  https://www.findamasters.com/masters-degrees/course/global-meetings-and-events-management-msc-pgdip/?i1038d6176c43380  \n",
              "2069                              https://www.findamasters.com/masters-degrees/course/clinical-research-msc/?i33d4094c49009  \n",
              "...                                                                                                                     ...  \n",
              "2002                            https://www.findamasters.com/masters-degrees/course/clinical-geriatrics-msc/?i33d4542c69034  \n",
              "2023                      https://www.findamasters.com/masters-degrees/course/clinical-neuropsychology-msc/?i287d6202c36582  \n",
              "2038                  https://www.findamasters.com/masters-degrees/course/clinical-ophthalmic-practice-msc/?i274d1871c40131  \n",
              "2040                             https://www.findamasters.com/masters-degrees/course/clinical-optometry-msc/?i33d4093c52009  \n",
              "2047                             https://www.findamasters.com/masters-degrees/course/clinical-pharmacy-msc/?i354d7558c32435  \n",
              "\n",
              "[450 rows x 4 columns]"
            ],
            "text/html": [
              "\n",
              "  <div id=\"df-f4a7906d-e2b3-4de9-b3a0-9496293c5b7b\" class=\"colab-df-container\">\n",
              "    <div>\n",
              "<style scoped>\n",
              "    .dataframe tbody tr th:only-of-type {\n",
              "        vertical-align: middle;\n",
              "    }\n",
              "\n",
              "    .dataframe tbody tr th {\n",
              "        vertical-align: top;\n",
              "    }\n",
              "\n",
              "    .dataframe thead th {\n",
              "        text-align: right;\n",
              "    }\n",
              "</style>\n",
              "<table border=\"1\" class=\"dataframe\">\n",
              "  <thead>\n",
              "    <tr style=\"text-align: right;\">\n",
              "      <th></th>\n",
              "      <th>courseName</th>\n",
              "      <th>universityName</th>\n",
              "      <th>description</th>\n",
              "      <th>url</th>\n",
              "    </tr>\n",
              "  </thead>\n",
              "  <tbody>\n",
              "    <tr>\n",
              "      <th>1</th>\n",
              "      <td>Accounting and Finance - MSc</td>\n",
              "      <td>University of Leeds</td>\n",
              "      <td>Businesses and governments rely on sound financial knowledge to underpin their strategies for success.This course will kick-start your professional career, providing you with advanced knowledge of modern financial theories, accounting practices and controls, as well as an understanding of the organisational context.You'll cover fundamental topics such as corporate finance and corporate reporting. Optional modules will allow you specialise your knowledge, ranging from international business finance to forensic accounting. You’ll also be able to apply your learning to practical case studies and simulations to test your knowledge in genuine business scenarios.</td>\n",
              "      <td>https://www.findamasters.com/masters-degrees/course/accounting-and-finance-msc/?i321d3232c3891</td>\n",
              "    </tr>\n",
              "    <tr>\n",
              "      <th>4</th>\n",
              "      <td>Addictions MSc</td>\n",
              "      <td>King’s College London</td>\n",
              "      <td>Join us for an online session for prospective students to find out about our MSc Addictions course. The online session will take placeWednesday 17th May 12 - 12.45pm.Book onlineOur Addiction Studies course provides postgraduate education in addictions, with a particular emphasis on recent biological, psychological and socio-environmental advances in the conceptualisation of drug use and addiction and its effective prevention. Your theoretical understanding of the subject will be positioned within the context of policy development, focusing on facilitating the transfer of knowledge and skills to the workplace.</td>\n",
              "      <td>https://www.findamasters.com/masters-degrees/course/addictions-msc/?i132d4318c27100</td>\n",
              "    </tr>\n",
              "    <tr>\n",
              "      <th>12</th>\n",
              "      <td>Analytical Toxicology MSc</td>\n",
              "      <td>King’s College London</td>\n",
              "      <td>The Analytical Toxicology MSc is a unique study course that integrates theoretical and practical aspects of analytical science with clinical and forensic toxicology. This course will provide you with a detailed knowledge and comprehensive understanding of advanced analytical toxicology and its applications.</td>\n",
              "      <td>https://www.findamasters.com/masters-degrees/course/analytical-toxicology-msc/?i132d4846c14767</td>\n",
              "    </tr>\n",
              "    <tr>\n",
              "      <th>4108</th>\n",
              "      <td>Global Meetings and Events Management MSc / PGDip</td>\n",
              "      <td>University College Birmingham</td>\n",
              "      <td>Become part of an events industry worth an estimated £70 billion to the UK economy, offering hundreds of thousands of jobs across a huge range of sectors. Whether you dream of managing festivals, music and sporting events or high-profile conferences, meetings and exhibitions, our Global Meetings and Events Management postgraduate course will give you advanced knowledge and skills for higher level careers in this dynamic</td>\n",
              "      <td>https://www.findamasters.com/masters-degrees/course/global-meetings-and-events-management-msc-pgdip/?i1038d6176c43380</td>\n",
              "    </tr>\n",
              "    <tr>\n",
              "      <th>2069</th>\n",
              "      <td>Clinical Research - MSc</td>\n",
              "      <td>Cardiff University</td>\n",
              "      <td>This part-time, distance learning course offers extensive knowledge and expertise relevant to those working in clinical trials. Its is also suitable for those in a senior role in clinical research in a pharmaceutical, biotechnology, device, contract research or site management company or the NHS.The MSc in Clinical Research is designed to advance and enhance your career in Clinical Research in the pharmaceutical industry, health service, contract research organisations, regulatory authorities, data management organisations and in medical writing.</td>\n",
              "      <td>https://www.findamasters.com/masters-degrees/course/clinical-research-msc/?i33d4094c49009</td>\n",
              "    </tr>\n",
              "    <tr>\n",
              "      <th>...</th>\n",
              "      <td>...</td>\n",
              "      <td>...</td>\n",
              "      <td>...</td>\n",
              "      <td>...</td>\n",
              "    </tr>\n",
              "    <tr>\n",
              "      <th>2002</th>\n",
              "      <td>Clinical Geriatrics - MSc</td>\n",
              "      <td>Cardiff University</td>\n",
              "      <td>The MSc Clinical Geriatrics aims to equip healthcare professionals, who have a special interest in managing and leading care in older adults, with an advanced clinical knowledge of ageing in health and illness as they present in</td>\n",
              "      <td>https://www.findamasters.com/masters-degrees/course/clinical-geriatrics-msc/?i33d4542c69034</td>\n",
              "    </tr>\n",
              "    <tr>\n",
              "      <th>2023</th>\n",
              "      <td>Clinical Neuropsychology - MSc</td>\n",
              "      <td>University of Bristol</td>\n",
              "      <td>Professional programmes in Clinical Neuropsychology have been offered within University of Bristol since 2010 and are delivered in partnership with North Bristol NHS Trust, which includes a large regional neurosciences and major trauma centre. Our Clinical courses aim to engage and inspire clinicians to enhance their skills in Clinical Neuropsychology and support entry on to the British Psychological Society's (BPS) Specialist Register of Clinical Neuropsychologists (SRCN). This MSc is accredited by the BPS and delivers the adult knowledge and practice component of the competency requirements for advanced training in clinical neuropsychology.</td>\n",
              "      <td>https://www.findamasters.com/masters-degrees/course/clinical-neuropsychology-msc/?i287d6202c36582</td>\n",
              "    </tr>\n",
              "    <tr>\n",
              "      <th>2038</th>\n",
              "      <td>Clinical Ophthalmic Practice MSc</td>\n",
              "      <td>University College London</td>\n",
              "      <td>This programme will allow you to develop advanced knowledge of the eye, eye diseases and treatment and the research underpinning clinical practice. It is delivered by ophthalmologists, researchers and nurses who are at the forefront of ophthalmic research clinical practice at the Institute of Ophthalmology and Moorfields Eye Hospital Trust both institutions will be involved in the teaching.</td>\n",
              "      <td>https://www.findamasters.com/masters-degrees/course/clinical-ophthalmic-practice-msc/?i274d1871c40131</td>\n",
              "    </tr>\n",
              "    <tr>\n",
              "      <th>2040</th>\n",
              "      <td>Clinical Optometry - MSc</td>\n",
              "      <td>Cardiff University</td>\n",
              "      <td>The aim of this programme is to provide optometrists with the opportunity to undertake a challenging and rewarding Masters in Clinical Optometry that focuses on their personal development as professionals leading, managing and developing ophthalmic practice roles and models of care delivery.The MSc Clinical Optometry is designed for optometrists in primary, secondary and tertiary settings who wish to advance their knowledge base, and specialist clinical and leadership skills. You will become actively involved in the advancement of optometry.</td>\n",
              "      <td>https://www.findamasters.com/masters-degrees/course/clinical-optometry-msc/?i33d4093c52009</td>\n",
              "    </tr>\n",
              "    <tr>\n",
              "      <th>2047</th>\n",
              "      <td>Clinical Pharmacy - MSc</td>\n",
              "      <td>University of Sunderland</td>\n",
              "      <td>The Clinical Pharmacy MSc has been designed to align with the Royal Pharmaceutical Society (RPS) foundation and advanced practice frameworks and the RPS knowledge summary guides. Gain vital core skills and knowledge necessary to prepare for your role as an advanced pharmacist practitioner and utilise your portfolio assessments to be used towards building your RPS individual pharmacist portfolio.</td>\n",
              "      <td>https://www.findamasters.com/masters-degrees/course/clinical-pharmacy-msc/?i354d7558c32435</td>\n",
              "    </tr>\n",
              "  </tbody>\n",
              "</table>\n",
              "<p>450 rows × 4 columns</p>\n",
              "</div>\n",
              "    <div class=\"colab-df-buttons\">\n",
              "\n",
              "  <div class=\"colab-df-container\">\n",
              "    <button class=\"colab-df-convert\" onclick=\"convertToInteractive('df-f4a7906d-e2b3-4de9-b3a0-9496293c5b7b')\"\n",
              "            title=\"Convert this dataframe to an interactive table.\"\n",
              "            style=\"display:none;\">\n",
              "\n",
              "  <svg xmlns=\"http://www.w3.org/2000/svg\" height=\"24px\" viewBox=\"0 -960 960 960\">\n",
              "    <path d=\"M120-120v-720h720v720H120Zm60-500h600v-160H180v160Zm220 220h160v-160H400v160Zm0 220h160v-160H400v160ZM180-400h160v-160H180v160Zm440 0h160v-160H620v160ZM180-180h160v-160H180v160Zm440 0h160v-160H620v160Z\"/>\n",
              "  </svg>\n",
              "    </button>\n",
              "\n",
              "  <style>\n",
              "    .colab-df-container {\n",
              "      display:flex;\n",
              "      gap: 12px;\n",
              "    }\n",
              "\n",
              "    .colab-df-convert {\n",
              "      background-color: #E8F0FE;\n",
              "      border: none;\n",
              "      border-radius: 50%;\n",
              "      cursor: pointer;\n",
              "      display: none;\n",
              "      fill: #1967D2;\n",
              "      height: 32px;\n",
              "      padding: 0 0 0 0;\n",
              "      width: 32px;\n",
              "    }\n",
              "\n",
              "    .colab-df-convert:hover {\n",
              "      background-color: #E2EBFA;\n",
              "      box-shadow: 0px 1px 2px rgba(60, 64, 67, 0.3), 0px 1px 3px 1px rgba(60, 64, 67, 0.15);\n",
              "      fill: #174EA6;\n",
              "    }\n",
              "\n",
              "    .colab-df-buttons div {\n",
              "      margin-bottom: 4px;\n",
              "    }\n",
              "\n",
              "    [theme=dark] .colab-df-convert {\n",
              "      background-color: #3B4455;\n",
              "      fill: #D2E3FC;\n",
              "    }\n",
              "\n",
              "    [theme=dark] .colab-df-convert:hover {\n",
              "      background-color: #434B5C;\n",
              "      box-shadow: 0px 1px 3px 1px rgba(0, 0, 0, 0.15);\n",
              "      filter: drop-shadow(0px 1px 2px rgba(0, 0, 0, 0.3));\n",
              "      fill: #FFFFFF;\n",
              "    }\n",
              "  </style>\n",
              "\n",
              "    <script>\n",
              "      const buttonEl =\n",
              "        document.querySelector('#df-f4a7906d-e2b3-4de9-b3a0-9496293c5b7b button.colab-df-convert');\n",
              "      buttonEl.style.display =\n",
              "        google.colab.kernel.accessAllowed ? 'block' : 'none';\n",
              "\n",
              "      async function convertToInteractive(key) {\n",
              "        const element = document.querySelector('#df-f4a7906d-e2b3-4de9-b3a0-9496293c5b7b');\n",
              "        const dataTable =\n",
              "          await google.colab.kernel.invokeFunction('convertToInteractive',\n",
              "                                                    [key], {});\n",
              "        if (!dataTable) return;\n",
              "\n",
              "        const docLinkHtml = 'Like what you see? Visit the ' +\n",
              "          '<a target=\"_blank\" href=https://colab.research.google.com/notebooks/data_table.ipynb>data table notebook</a>'\n",
              "          + ' to learn more about interactive tables.';\n",
              "        element.innerHTML = '';\n",
              "        dataTable['output_type'] = 'display_data';\n",
              "        await google.colab.output.renderOutput(dataTable, element);\n",
              "        const docLink = document.createElement('div');\n",
              "        docLink.innerHTML = docLinkHtml;\n",
              "        element.appendChild(docLink);\n",
              "      }\n",
              "    </script>\n",
              "  </div>\n",
              "\n",
              "\n",
              "<div id=\"df-54dbed52-1985-474d-af20-f75af715a8fb\">\n",
              "  <button class=\"colab-df-quickchart\" onclick=\"quickchart('df-54dbed52-1985-474d-af20-f75af715a8fb')\"\n",
              "            title=\"Suggest charts\"\n",
              "            style=\"display:none;\">\n",
              "\n",
              "<svg xmlns=\"http://www.w3.org/2000/svg\" height=\"24px\"viewBox=\"0 0 24 24\"\n",
              "     width=\"24px\">\n",
              "    <g>\n",
              "        <path d=\"M19 3H5c-1.1 0-2 .9-2 2v14c0 1.1.9 2 2 2h14c1.1 0 2-.9 2-2V5c0-1.1-.9-2-2-2zM9 17H7v-7h2v7zm4 0h-2V7h2v10zm4 0h-2v-4h2v4z\"/>\n",
              "    </g>\n",
              "</svg>\n",
              "  </button>\n",
              "\n",
              "<style>\n",
              "  .colab-df-quickchart {\n",
              "      --bg-color: #E8F0FE;\n",
              "      --fill-color: #1967D2;\n",
              "      --hover-bg-color: #E2EBFA;\n",
              "      --hover-fill-color: #174EA6;\n",
              "      --disabled-fill-color: #AAA;\n",
              "      --disabled-bg-color: #DDD;\n",
              "  }\n",
              "\n",
              "  [theme=dark] .colab-df-quickchart {\n",
              "      --bg-color: #3B4455;\n",
              "      --fill-color: #D2E3FC;\n",
              "      --hover-bg-color: #434B5C;\n",
              "      --hover-fill-color: #FFFFFF;\n",
              "      --disabled-bg-color: #3B4455;\n",
              "      --disabled-fill-color: #666;\n",
              "  }\n",
              "\n",
              "  .colab-df-quickchart {\n",
              "    background-color: var(--bg-color);\n",
              "    border: none;\n",
              "    border-radius: 50%;\n",
              "    cursor: pointer;\n",
              "    display: none;\n",
              "    fill: var(--fill-color);\n",
              "    height: 32px;\n",
              "    padding: 0;\n",
              "    width: 32px;\n",
              "  }\n",
              "\n",
              "  .colab-df-quickchart:hover {\n",
              "    background-color: var(--hover-bg-color);\n",
              "    box-shadow: 0 1px 2px rgba(60, 64, 67, 0.3), 0 1px 3px 1px rgba(60, 64, 67, 0.15);\n",
              "    fill: var(--button-hover-fill-color);\n",
              "  }\n",
              "\n",
              "  .colab-df-quickchart-complete:disabled,\n",
              "  .colab-df-quickchart-complete:disabled:hover {\n",
              "    background-color: var(--disabled-bg-color);\n",
              "    fill: var(--disabled-fill-color);\n",
              "    box-shadow: none;\n",
              "  }\n",
              "\n",
              "  .colab-df-spinner {\n",
              "    border: 2px solid var(--fill-color);\n",
              "    border-color: transparent;\n",
              "    border-bottom-color: var(--fill-color);\n",
              "    animation:\n",
              "      spin 1s steps(1) infinite;\n",
              "  }\n",
              "\n",
              "  @keyframes spin {\n",
              "    0% {\n",
              "      border-color: transparent;\n",
              "      border-bottom-color: var(--fill-color);\n",
              "      border-left-color: var(--fill-color);\n",
              "    }\n",
              "    20% {\n",
              "      border-color: transparent;\n",
              "      border-left-color: var(--fill-color);\n",
              "      border-top-color: var(--fill-color);\n",
              "    }\n",
              "    30% {\n",
              "      border-color: transparent;\n",
              "      border-left-color: var(--fill-color);\n",
              "      border-top-color: var(--fill-color);\n",
              "      border-right-color: var(--fill-color);\n",
              "    }\n",
              "    40% {\n",
              "      border-color: transparent;\n",
              "      border-right-color: var(--fill-color);\n",
              "      border-top-color: var(--fill-color);\n",
              "    }\n",
              "    60% {\n",
              "      border-color: transparent;\n",
              "      border-right-color: var(--fill-color);\n",
              "    }\n",
              "    80% {\n",
              "      border-color: transparent;\n",
              "      border-right-color: var(--fill-color);\n",
              "      border-bottom-color: var(--fill-color);\n",
              "    }\n",
              "    90% {\n",
              "      border-color: transparent;\n",
              "      border-bottom-color: var(--fill-color);\n",
              "    }\n",
              "  }\n",
              "</style>\n",
              "\n",
              "  <script>\n",
              "    async function quickchart(key) {\n",
              "      const quickchartButtonEl =\n",
              "        document.querySelector('#' + key + ' button');\n",
              "      quickchartButtonEl.disabled = true;  // To prevent multiple clicks.\n",
              "      quickchartButtonEl.classList.add('colab-df-spinner');\n",
              "      try {\n",
              "        const charts = await google.colab.kernel.invokeFunction(\n",
              "            'suggestCharts', [key], {});\n",
              "      } catch (error) {\n",
              "        console.error('Error during call to suggestCharts:', error);\n",
              "      }\n",
              "      quickchartButtonEl.classList.remove('colab-df-spinner');\n",
              "      quickchartButtonEl.classList.add('colab-df-quickchart-complete');\n",
              "    }\n",
              "    (() => {\n",
              "      let quickchartButtonEl =\n",
              "        document.querySelector('#df-54dbed52-1985-474d-af20-f75af715a8fb button');\n",
              "      quickchartButtonEl.style.display =\n",
              "        google.colab.kernel.accessAllowed ? 'block' : 'none';\n",
              "    })();\n",
              "  </script>\n",
              "</div>\n",
              "    </div>\n",
              "  </div>\n"
            ]
          },
          "metadata": {},
          "execution_count": 102
        }
      ]
    },
    {
      "cell_type": "markdown",
      "source": [
        "## 2.2 Conjunctive query & Ranking score"
      ],
      "metadata": {
        "id": "l8HKv9BCix5E"
      }
    },
    {
      "cell_type": "markdown",
      "source": [
        "### 2.2.1 Inverted index"
      ],
      "metadata": {
        "id": "IaPU3AaDjiYS"
      }
    },
    {
      "cell_type": "code",
      "source": [
        "from sklearn.feature_extraction.text import TfidfVectorizer\n",
        "\n",
        "tfidf = TfidfVectorizer(input='content', lowercase=False, tokenizer=lambda text: text,vocabulary=vocabulary, max_df=0.2)\n",
        "# with max_df i am excluding every element that appear more than 20%, because they could be too common words\n",
        "masters_tfidf = tfidf.fit_transform(masters.descr_stem)\n",
        "inverted_index_tfidf = {}\n",
        "\n",
        "with open('inverted_index.txt', 'r') as file:\n",
        "    for line in file:\n",
        "        parts = line.strip().split(':')\n",
        "        term = int(parts[0])\n",
        "        doc_list = eval(parts[1])  # Use eval to convert the string representation of the tuple to an actual tuple\n",
        "\n",
        "        inverted_index_tfidf[term] = []\n",
        "        for doc in doc_list:\n",
        "            doc_id = doc\n",
        "            tfidf_value = masters_tfidf[doc_id,term]\n",
        "            inverted_index_tfidf[term].append((doc_id, tfidf_value))\n",
        "\n",
        "# Save the new inverted index to a text file\n",
        "with open('inverted_index_tfidf.txt', 'w') as file:\n",
        "    for term, doc_tfidf_list in inverted_index_tfidf.items():\n",
        "        file.write(f\"{term}: {doc_tfidf_list}\\n\")"
      ],
      "metadata": {
        "id": "uK49o3uGLSjW"
      },
      "execution_count": 103,
      "outputs": []
    },
    {
      "cell_type": "markdown",
      "source": [
        "### 2.2.2 Execute the query"
      ],
      "metadata": {
        "id": "1NhGXxh2jmoB"
      }
    },
    {
      "cell_type": "code",
      "source": [
        "import heapq\n",
        "import pandas as pd\n",
        "from sklearn.feature_extraction.text import TfidfVectorizer\n",
        "from sklearn.metrics.pairwise import cosine_similarity\n",
        "\n",
        "def Research2(query, df, k):\n",
        "  #i need to preprocces the description and the query\n",
        "    df['descr_stem'] = df['description'].apply(process_text)\n",
        "    query = process_text(query)\n",
        "\n",
        "    # Calculate TF-IDF for the query\n",
        "    tfidf_vectorizer = TfidfVectorizer(input='content', lowercase=False, tokenizer=lambda text: text, vocabulary=vocabulary,max_df=0.2)\n",
        "    tfidf_query = tfidf_vectorizer.fit_transform([query])\n",
        "\n",
        "\n",
        "    heap = []\n",
        "   #we find the tfidf of the smaller dataset with only the words that have all the words of the Query\n",
        "    for index, document in df['descr_stem'].items():\n",
        "         tfidf_document = tfidf_vectorizer.transform([document])\n",
        "         similarity = cosine_similarity(tfidf_query, tfidf_document)[0, 0]\n",
        "#we use a heap structure to have the top_k_documents\n",
        "         if similarity > 0:\n",
        "            if len(heap) < k:\n",
        "                heapq.heappush(heap, (similarity,index))\n",
        "\n",
        "            else:\n",
        "              #i add temp just because heap is a tuple and i need only the similarity\n",
        "                min_similarity,temp = heap[0]\n",
        "\n",
        "\n",
        "                if similarity > min_similarity:\n",
        "                    heapq.heappop(heap)\n",
        "                    heapq.heappush(heap, (similarity,index))\n",
        "\n",
        "\n",
        "    # i add this list to have the dataframe organized in a better way\n",
        "    top= [(index, similarity) for (similarity, index) in sorted(heap)]\n",
        "    #i added the index to not lose the information of the original index\n",
        "\n",
        "    result_df = pd.DataFrame(top, columns=['Index', 'Similarity'])\n",
        "\n",
        "\n",
        "    #we have the index, we want the columns of the original dataframe\n",
        "    result_df = result_df.set_index('Index')\n",
        "    result_df = result_df.join(masters.loc[result_df.index, ['courseName', 'universityName', 'description', 'url']])\n",
        "    result_df = result_df.sort_values(by='Similarity', ascending=False)\n",
        "    return result_df\n",
        "\n",
        "\n",
        "query2 = ['Advanced knowledge']\n",
        "k = 5\n",
        "documentsss=Research1(query2)\n",
        "top_k_results = Research2(query2, documentsss, k)\n",
        "top_k_results"
      ],
      "metadata": {
        "id": "zVjdp4K_Q5Mf",
        "colab": {
          "base_uri": "https://localhost:8080/",
          "height": 429
        },
        "outputId": "0d00e658-329a-4c40-9a28-7e7a5885f0d8"
      },
      "execution_count": 104,
      "outputs": [
        {
          "output_type": "execute_result",
          "data": {
            "text/plain": [
              "       Similarity                          courseName  \\\n",
              "Index                                                   \n",
              "650      0.321699    Advanced Clinical Practice - MSc   \n",
              "926      0.296649            Advancing Practice - MSc   \n",
              "782      0.293139  Advanced Healthcare Practice - MSc   \n",
              "752      0.288671              Advanced Computing MSc   \n",
              "697      0.276550      Advanced Clinical Practice MSc   \n",
              "\n",
              "                            universityName  \\\n",
              "Index                                        \n",
              "650    Canterbury Christ Church University   \n",
              "926              University of Northampton   \n",
              "782                     Cardiff University   \n",
              "752                  King’s College London   \n",
              "697                University of Greenwich   \n",
              "\n",
              "                                                                                                                                                                                                                                                                                                                                                                                                                                                                                                                                                                                                                                                                                                description  \\\n",
              "Index                                                                                                                                                                                                                                                                                                                                                                                                                                                                                                                                                                                                                                                                                                         \n",
              "650    Gain the knowledge and skills needed to become a qualified health care professional working in a clinically senior post.The MSc Advanced Clinical Practice course has been developed to provide you with knowledge and skills to allow you to develop and progress your advanced clinical practice role. You will develop an in-depth and advanced knowledge of your role (ACP). The knowledge is informed by current practice and research. You will develop a critical awareness of the subject matter and be able to demonstrate critical skills, knowledge of your profession demonstrating strategic leadership and education in practice, you will also reflect on your progress as a learner.   \n",
              "926                                                                       Our MSc Advancing Practice awards support the advancement of healthcare professionals practice by developing, knowledge, skills and understanding to challenge and innovate future practice. This award also offers and alternative route to individuals with an interest in Advanced Clinical Practice.By challenging legal, professional and ethical dilemmas you will develop advanced knowledge and skills to underpin safe and effective practice, supported by the application of complex decision making. You will benefit from a flexible route which builds and develops opportunity for advancing healthcare provision.   \n",
              "782                                                                                Our MSc Advanced Healthcare Practice programme aims to develop your knowledge, understanding and critical appreciation of the four pillars of advanced level practice.It offers you the opportunity to apply learning to advance your leadership and management, facilitation of learning and teaching, and clinical practice skills, all of which are underpinned by evidence, research and service improvement.Our programme is suitable for those progressing towards a level of autonomous advanced practice as well as experienced registered health care professionals, already working as advanced practitioners.   \n",
              "752                                                                                                                                                                                                                                                                                                                                                                                                            Our Advanced Computing MSc provides knowledge and experience of computing at an advanced level. The programme allows students to select modules on a wide range of advanced computer science subjects, so that they can build a programme that suits their interests and career aspirations.   \n",
              "697                                                                                                                                                                                                                                                                                                                                                                                            Develop your skills and deepen your knowledge of advanced health clinical practice with this tailored Master's course. Our MSc in Advanced Clinical Practice is designed for current practitioners who are registered with a professional body and who would like to become advanced clinical practitioners.   \n",
              "\n",
              "                                                                                                        url  \n",
              "Index                                                                                                        \n",
              "650      https://www.findamasters.com/masters-degrees/course/advanced-clinical-practice-msc/?i32d2712c57002  \n",
              "926             https://www.findamasters.com/masters-degrees/course/advancing-practice-msc/?i337d1774c57759  \n",
              "782    https://www.findamasters.com/masters-degrees/course/advanced-healthcare-practice-msc/?i33d4736c67062  \n",
              "752             https://www.findamasters.com/masters-degrees/course/advanced-computing-msc/?i132d3905c23524  \n",
              "697     https://www.findamasters.com/masters-degrees/course/advanced-clinical-practice-msc/?i309d6650c56313  "
            ],
            "text/html": [
              "\n",
              "  <div id=\"df-42c6ecd9-052d-445d-8869-08a7bc18e782\" class=\"colab-df-container\">\n",
              "    <div>\n",
              "<style scoped>\n",
              "    .dataframe tbody tr th:only-of-type {\n",
              "        vertical-align: middle;\n",
              "    }\n",
              "\n",
              "    .dataframe tbody tr th {\n",
              "        vertical-align: top;\n",
              "    }\n",
              "\n",
              "    .dataframe thead th {\n",
              "        text-align: right;\n",
              "    }\n",
              "</style>\n",
              "<table border=\"1\" class=\"dataframe\">\n",
              "  <thead>\n",
              "    <tr style=\"text-align: right;\">\n",
              "      <th></th>\n",
              "      <th>Similarity</th>\n",
              "      <th>courseName</th>\n",
              "      <th>universityName</th>\n",
              "      <th>description</th>\n",
              "      <th>url</th>\n",
              "    </tr>\n",
              "    <tr>\n",
              "      <th>Index</th>\n",
              "      <th></th>\n",
              "      <th></th>\n",
              "      <th></th>\n",
              "      <th></th>\n",
              "      <th></th>\n",
              "    </tr>\n",
              "  </thead>\n",
              "  <tbody>\n",
              "    <tr>\n",
              "      <th>650</th>\n",
              "      <td>0.321699</td>\n",
              "      <td>Advanced Clinical Practice - MSc</td>\n",
              "      <td>Canterbury Christ Church University</td>\n",
              "      <td>Gain the knowledge and skills needed to become a qualified health care professional working in a clinically senior post.The MSc Advanced Clinical Practice course has been developed to provide you with knowledge and skills to allow you to develop and progress your advanced clinical practice role. You will develop an in-depth and advanced knowledge of your role (ACP). The knowledge is informed by current practice and research. You will develop a critical awareness of the subject matter and be able to demonstrate critical skills, knowledge of your profession demonstrating strategic leadership and education in practice, you will also reflect on your progress as a learner.</td>\n",
              "      <td>https://www.findamasters.com/masters-degrees/course/advanced-clinical-practice-msc/?i32d2712c57002</td>\n",
              "    </tr>\n",
              "    <tr>\n",
              "      <th>926</th>\n",
              "      <td>0.296649</td>\n",
              "      <td>Advancing Practice - MSc</td>\n",
              "      <td>University of Northampton</td>\n",
              "      <td>Our MSc Advancing Practice awards support the advancement of healthcare professionals practice by developing, knowledge, skills and understanding to challenge and innovate future practice. This award also offers and alternative route to individuals with an interest in Advanced Clinical Practice.By challenging legal, professional and ethical dilemmas you will develop advanced knowledge and skills to underpin safe and effective practice, supported by the application of complex decision making. You will benefit from a flexible route which builds and develops opportunity for advancing healthcare provision.</td>\n",
              "      <td>https://www.findamasters.com/masters-degrees/course/advancing-practice-msc/?i337d1774c57759</td>\n",
              "    </tr>\n",
              "    <tr>\n",
              "      <th>782</th>\n",
              "      <td>0.293139</td>\n",
              "      <td>Advanced Healthcare Practice - MSc</td>\n",
              "      <td>Cardiff University</td>\n",
              "      <td>Our MSc Advanced Healthcare Practice programme aims to develop your knowledge, understanding and critical appreciation of the four pillars of advanced level practice.It offers you the opportunity to apply learning to advance your leadership and management, facilitation of learning and teaching, and clinical practice skills, all of which are underpinned by evidence, research and service improvement.Our programme is suitable for those progressing towards a level of autonomous advanced practice as well as experienced registered health care professionals, already working as advanced practitioners.</td>\n",
              "      <td>https://www.findamasters.com/masters-degrees/course/advanced-healthcare-practice-msc/?i33d4736c67062</td>\n",
              "    </tr>\n",
              "    <tr>\n",
              "      <th>752</th>\n",
              "      <td>0.288671</td>\n",
              "      <td>Advanced Computing MSc</td>\n",
              "      <td>King’s College London</td>\n",
              "      <td>Our Advanced Computing MSc provides knowledge and experience of computing at an advanced level. The programme allows students to select modules on a wide range of advanced computer science subjects, so that they can build a programme that suits their interests and career aspirations.</td>\n",
              "      <td>https://www.findamasters.com/masters-degrees/course/advanced-computing-msc/?i132d3905c23524</td>\n",
              "    </tr>\n",
              "    <tr>\n",
              "      <th>697</th>\n",
              "      <td>0.276550</td>\n",
              "      <td>Advanced Clinical Practice MSc</td>\n",
              "      <td>University of Greenwich</td>\n",
              "      <td>Develop your skills and deepen your knowledge of advanced health clinical practice with this tailored Master's course. Our MSc in Advanced Clinical Practice is designed for current practitioners who are registered with a professional body and who would like to become advanced clinical practitioners.</td>\n",
              "      <td>https://www.findamasters.com/masters-degrees/course/advanced-clinical-practice-msc/?i309d6650c56313</td>\n",
              "    </tr>\n",
              "  </tbody>\n",
              "</table>\n",
              "</div>\n",
              "    <div class=\"colab-df-buttons\">\n",
              "\n",
              "  <div class=\"colab-df-container\">\n",
              "    <button class=\"colab-df-convert\" onclick=\"convertToInteractive('df-42c6ecd9-052d-445d-8869-08a7bc18e782')\"\n",
              "            title=\"Convert this dataframe to an interactive table.\"\n",
              "            style=\"display:none;\">\n",
              "\n",
              "  <svg xmlns=\"http://www.w3.org/2000/svg\" height=\"24px\" viewBox=\"0 -960 960 960\">\n",
              "    <path d=\"M120-120v-720h720v720H120Zm60-500h600v-160H180v160Zm220 220h160v-160H400v160Zm0 220h160v-160H400v160ZM180-400h160v-160H180v160Zm440 0h160v-160H620v160ZM180-180h160v-160H180v160Zm440 0h160v-160H620v160Z\"/>\n",
              "  </svg>\n",
              "    </button>\n",
              "\n",
              "  <style>\n",
              "    .colab-df-container {\n",
              "      display:flex;\n",
              "      gap: 12px;\n",
              "    }\n",
              "\n",
              "    .colab-df-convert {\n",
              "      background-color: #E8F0FE;\n",
              "      border: none;\n",
              "      border-radius: 50%;\n",
              "      cursor: pointer;\n",
              "      display: none;\n",
              "      fill: #1967D2;\n",
              "      height: 32px;\n",
              "      padding: 0 0 0 0;\n",
              "      width: 32px;\n",
              "    }\n",
              "\n",
              "    .colab-df-convert:hover {\n",
              "      background-color: #E2EBFA;\n",
              "      box-shadow: 0px 1px 2px rgba(60, 64, 67, 0.3), 0px 1px 3px 1px rgba(60, 64, 67, 0.15);\n",
              "      fill: #174EA6;\n",
              "    }\n",
              "\n",
              "    .colab-df-buttons div {\n",
              "      margin-bottom: 4px;\n",
              "    }\n",
              "\n",
              "    [theme=dark] .colab-df-convert {\n",
              "      background-color: #3B4455;\n",
              "      fill: #D2E3FC;\n",
              "    }\n",
              "\n",
              "    [theme=dark] .colab-df-convert:hover {\n",
              "      background-color: #434B5C;\n",
              "      box-shadow: 0px 1px 3px 1px rgba(0, 0, 0, 0.15);\n",
              "      filter: drop-shadow(0px 1px 2px rgba(0, 0, 0, 0.3));\n",
              "      fill: #FFFFFF;\n",
              "    }\n",
              "  </style>\n",
              "\n",
              "    <script>\n",
              "      const buttonEl =\n",
              "        document.querySelector('#df-42c6ecd9-052d-445d-8869-08a7bc18e782 button.colab-df-convert');\n",
              "      buttonEl.style.display =\n",
              "        google.colab.kernel.accessAllowed ? 'block' : 'none';\n",
              "\n",
              "      async function convertToInteractive(key) {\n",
              "        const element = document.querySelector('#df-42c6ecd9-052d-445d-8869-08a7bc18e782');\n",
              "        const dataTable =\n",
              "          await google.colab.kernel.invokeFunction('convertToInteractive',\n",
              "                                                    [key], {});\n",
              "        if (!dataTable) return;\n",
              "\n",
              "        const docLinkHtml = 'Like what you see? Visit the ' +\n",
              "          '<a target=\"_blank\" href=https://colab.research.google.com/notebooks/data_table.ipynb>data table notebook</a>'\n",
              "          + ' to learn more about interactive tables.';\n",
              "        element.innerHTML = '';\n",
              "        dataTable['output_type'] = 'display_data';\n",
              "        await google.colab.output.renderOutput(dataTable, element);\n",
              "        const docLink = document.createElement('div');\n",
              "        docLink.innerHTML = docLinkHtml;\n",
              "        element.appendChild(docLink);\n",
              "      }\n",
              "    </script>\n",
              "  </div>\n",
              "\n",
              "\n",
              "<div id=\"df-228081f7-4023-49eb-bb10-112161d3ac5d\">\n",
              "  <button class=\"colab-df-quickchart\" onclick=\"quickchart('df-228081f7-4023-49eb-bb10-112161d3ac5d')\"\n",
              "            title=\"Suggest charts\"\n",
              "            style=\"display:none;\">\n",
              "\n",
              "<svg xmlns=\"http://www.w3.org/2000/svg\" height=\"24px\"viewBox=\"0 0 24 24\"\n",
              "     width=\"24px\">\n",
              "    <g>\n",
              "        <path d=\"M19 3H5c-1.1 0-2 .9-2 2v14c0 1.1.9 2 2 2h14c1.1 0 2-.9 2-2V5c0-1.1-.9-2-2-2zM9 17H7v-7h2v7zm4 0h-2V7h2v10zm4 0h-2v-4h2v4z\"/>\n",
              "    </g>\n",
              "</svg>\n",
              "  </button>\n",
              "\n",
              "<style>\n",
              "  .colab-df-quickchart {\n",
              "      --bg-color: #E8F0FE;\n",
              "      --fill-color: #1967D2;\n",
              "      --hover-bg-color: #E2EBFA;\n",
              "      --hover-fill-color: #174EA6;\n",
              "      --disabled-fill-color: #AAA;\n",
              "      --disabled-bg-color: #DDD;\n",
              "  }\n",
              "\n",
              "  [theme=dark] .colab-df-quickchart {\n",
              "      --bg-color: #3B4455;\n",
              "      --fill-color: #D2E3FC;\n",
              "      --hover-bg-color: #434B5C;\n",
              "      --hover-fill-color: #FFFFFF;\n",
              "      --disabled-bg-color: #3B4455;\n",
              "      --disabled-fill-color: #666;\n",
              "  }\n",
              "\n",
              "  .colab-df-quickchart {\n",
              "    background-color: var(--bg-color);\n",
              "    border: none;\n",
              "    border-radius: 50%;\n",
              "    cursor: pointer;\n",
              "    display: none;\n",
              "    fill: var(--fill-color);\n",
              "    height: 32px;\n",
              "    padding: 0;\n",
              "    width: 32px;\n",
              "  }\n",
              "\n",
              "  .colab-df-quickchart:hover {\n",
              "    background-color: var(--hover-bg-color);\n",
              "    box-shadow: 0 1px 2px rgba(60, 64, 67, 0.3), 0 1px 3px 1px rgba(60, 64, 67, 0.15);\n",
              "    fill: var(--button-hover-fill-color);\n",
              "  }\n",
              "\n",
              "  .colab-df-quickchart-complete:disabled,\n",
              "  .colab-df-quickchart-complete:disabled:hover {\n",
              "    background-color: var(--disabled-bg-color);\n",
              "    fill: var(--disabled-fill-color);\n",
              "    box-shadow: none;\n",
              "  }\n",
              "\n",
              "  .colab-df-spinner {\n",
              "    border: 2px solid var(--fill-color);\n",
              "    border-color: transparent;\n",
              "    border-bottom-color: var(--fill-color);\n",
              "    animation:\n",
              "      spin 1s steps(1) infinite;\n",
              "  }\n",
              "\n",
              "  @keyframes spin {\n",
              "    0% {\n",
              "      border-color: transparent;\n",
              "      border-bottom-color: var(--fill-color);\n",
              "      border-left-color: var(--fill-color);\n",
              "    }\n",
              "    20% {\n",
              "      border-color: transparent;\n",
              "      border-left-color: var(--fill-color);\n",
              "      border-top-color: var(--fill-color);\n",
              "    }\n",
              "    30% {\n",
              "      border-color: transparent;\n",
              "      border-left-color: var(--fill-color);\n",
              "      border-top-color: var(--fill-color);\n",
              "      border-right-color: var(--fill-color);\n",
              "    }\n",
              "    40% {\n",
              "      border-color: transparent;\n",
              "      border-right-color: var(--fill-color);\n",
              "      border-top-color: var(--fill-color);\n",
              "    }\n",
              "    60% {\n",
              "      border-color: transparent;\n",
              "      border-right-color: var(--fill-color);\n",
              "    }\n",
              "    80% {\n",
              "      border-color: transparent;\n",
              "      border-right-color: var(--fill-color);\n",
              "      border-bottom-color: var(--fill-color);\n",
              "    }\n",
              "    90% {\n",
              "      border-color: transparent;\n",
              "      border-bottom-color: var(--fill-color);\n",
              "    }\n",
              "  }\n",
              "</style>\n",
              "\n",
              "  <script>\n",
              "    async function quickchart(key) {\n",
              "      const quickchartButtonEl =\n",
              "        document.querySelector('#' + key + ' button');\n",
              "      quickchartButtonEl.disabled = true;  // To prevent multiple clicks.\n",
              "      quickchartButtonEl.classList.add('colab-df-spinner');\n",
              "      try {\n",
              "        const charts = await google.colab.kernel.invokeFunction(\n",
              "            'suggestCharts', [key], {});\n",
              "      } catch (error) {\n",
              "        console.error('Error during call to suggestCharts:', error);\n",
              "      }\n",
              "      quickchartButtonEl.classList.remove('colab-df-spinner');\n",
              "      quickchartButtonEl.classList.add('colab-df-quickchart-complete');\n",
              "    }\n",
              "    (() => {\n",
              "      let quickchartButtonEl =\n",
              "        document.querySelector('#df-228081f7-4023-49eb-bb10-112161d3ac5d button');\n",
              "      quickchartButtonEl.style.display =\n",
              "        google.colab.kernel.accessAllowed ? 'block' : 'none';\n",
              "    })();\n",
              "  </script>\n",
              "</div>\n",
              "    </div>\n",
              "  </div>\n"
            ]
          },
          "metadata": {},
          "execution_count": 104
        }
      ]
    },
    {
      "cell_type": "markdown",
      "source": [
        "# 3. Define a new score!"
      ],
      "metadata": {
        "id": "xtUjpcDDhwfm"
      }
    },
    {
      "cell_type": "markdown",
      "source": [
        "In this section of the homework, we were required to create a new function to evaluate the similarity score. We chose to use a type of similarity called Jaccard Similarity, which is quite similar to Cosine Similarity and can assess the resemblance between two texts. The focus of the investigation was on analyzing a query that assumed a student's search for a full-time master's program in Management starting in October. To achieve this, we initially created a function to calculate the score for each analyzed course, placing greater emphasis on the similarity in course names, which adds an additional 0.2 to the score. This is because, when searching for courses of study, the name (what is studied) carries greater importance for achieving an optimal result.\n",
        "\n",
        "An important implementation arises from the fact that we condensed the columns by combining \"courseName,\" \"isItFullTime,\" and \"startDate,\" and then analyzed the Jaccard similarity for each row.\n",
        "\n",
        "As a final step, a tuple was created containing the dataframe of all obtained results with the values of the columns, as required by the text, along with the newly calculated similarity variable."
      ],
      "metadata": {
        "id": "8QAJELQDtVP_"
      }
    },
    {
      "cell_type": "code",
      "source": [
        "import heapq\n",
        "\n",
        "def calcola_punteggio(documento_combined, query):\n",
        "    combined_text = str(documento_combined)\n",
        "    parole_documento = set(combined_text.split())\n",
        "    parole_query = query.split()  # Change set() to split()\n",
        "\n",
        "    # Give more importance to the first word of the query\n",
        "    punteggio_aggiuntivo = 0.2 if parole_query and parole_query[0] in parole_documento else 0\n",
        "\n",
        "    numeratore = 0\n",
        "    denominatore = 0\n",
        "\n",
        "    for parola_documento in parole_documento:\n",
        "        lunghezza_parola_documento = len(parola_documento)\n",
        "        numeratore += abs(lunghezza_parola_documento - len(parole_query))\n",
        "        denominatore += lunghezza_parola_documento + len(parole_query)\n",
        "\n",
        "    punteggio_jaccard = (numeratore / denominatore + punteggio_aggiuntivo) if denominatore != 0 else 0\n",
        "\n",
        "    return punteggio_jaccard\n",
        "\n",
        "masters_df=pd.DataFrame(masters)\n",
        "masters_df['combined'] = masters_df['courseName'] + ' ' + masters_df['isItFullTime'] + ' ' + masters_df['startDate']\n",
        "\n",
        "Query = \"Management Full Time Ocober\"\n",
        "heap = []\n",
        "k = 450\n",
        "linkss = set(range(6000))\n",
        "\n",
        "for j in Query:\n",
        "    temp_link=[]\n",
        "    search = df_merged[df_merged['Word'] == j]\n",
        "    for index, row in search.iterrows():\n",
        "        links_number = row['links']\n",
        "        temp = list(links_number)\n",
        "\n",
        "        temp_link.extend(temp)\n",
        "\n",
        "temp_link=set(temp_link)\n",
        "linkss=linkss.intersection(temp_link)\n",
        "\n",
        "\n",
        "\n",
        "for i in linkss:\n",
        "    documento = masters_df.loc[i]\n",
        "    combined_text = masters_df.loc[i, 'combined']\n",
        "    punteggio = calcola_punteggio(combined_text, Query)\n",
        "\n",
        "    documento_rilevante = documento[['courseName', 'universityName', 'description', 'url']]\n",
        "\n",
        "    documento_tuple = tuple(documento_rilevante.values)\n",
        "\n",
        "    heapq.heappush(heap, (punteggio, i, documento_tuple))\n",
        "\n",
        "documenti_principali = heapq.nlargest(k, heap)\n",
        "\n",
        "result_tuples = [(indice, masters_df.loc[indice, 'courseName'], masters_df.loc[indice, 'universityName'],\n",
        "                  masters_df.loc[indice, 'description'], masters_df.loc[indice, 'url'], punteggio)\n",
        "                 for punteggio, indice, _ in documenti_principali]\n",
        "\n",
        "result_df = pd.DataFrame(result_tuples, columns=['Index', 'courseName', 'universityName', 'description', 'url', 'similarity'])\n",
        "\n",
        "result_df = result_df.set_index('Index')\n",
        "\n",
        "#pd.set_option(\"display.max_colwidth\", None)\n",
        " # we print only the head of the dataframe to keep the output short and clean.\n",
        "result_df.head()"
      ],
      "metadata": {
        "id": "8X75hbplGgB7",
        "colab": {
          "base_uri": "https://localhost:8080/",
          "height": 314
        },
        "outputId": "7243f7ad-df70-4d09-bff9-b950962d689d"
      },
      "execution_count": 105,
      "outputs": [
        {
          "output_type": "execute_result",
          "data": {
            "text/plain": [
              "                                           courseName  \\\n",
              "Index                                                   \n",
              "2364              Construction Management MS (Online)   \n",
              "3497   Environmental, Health and Safety Management MS   \n",
              "4191              Health and Well-being Management MS   \n",
              "4279           Health Systems Management (Online)  MS   \n",
              "4142                Global Supply Chain Management MS   \n",
              "\n",
              "                              universityName  \\\n",
              "Index                                          \n",
              "2364   Rochester Institute of Technology USA   \n",
              "3497   Rochester Institute of Technology USA   \n",
              "4191   Rochester Institute of Technology USA   \n",
              "4279   Rochester Institute of Technology USA   \n",
              "4142   Rochester Institute of Technology USA   \n",
              "\n",
              "                                                                                                                                                                                                                                                                           description  \\\n",
              "Index                                                                                                                                                                                                                                                                                    \n",
              "2364                                                                                                                    Online ExclusivelyCo-op/Internship Encouraged100% Outcome Rate of RIT Graduates from this degree88K+ Annual Salary for these Jobs11% Employment Growth in this   \n",
              "3497                                                                                                    Online Option AvailableCo-op/Internship EncouragedSTEM-OPT Visa Eligible100% Outcome Rate of RIT Graduates from this degree$80K Median First-Year Salary of RIT Graduates from   \n",
              "4191                                                                                           100% Outcome Rate of RIT Graduates from this degreeChoose from two options in: (1) content development, implementation, and evaluation or (2) health and well-being program management.   \n",
              "4279                                                                                            Online Exclusively100% Outcome Rate of RIT Graduates from this degree$87K Median First-Year Salary of RIT Graduates from this degree75k+ Average Annual Salary20% Employment Growth by   \n",
              "4142   Co-op/Internship EncouragedSTEM-OPT Visa Eligible100% Outcome Rate of RIT Graduates from this degreeThis interdisciplinary program integrates supply chain management and logistics, operations management, analytics, industrial engineering, global business, and management.   \n",
              "\n",
              "                                                                                                                      url  \\\n",
              "Index                                                                                                                       \n",
              "2364               https://www.findamasters.com/masters-degrees/course/construction-management-ms-online/?i693d7481c63870   \n",
              "3497   https://www.findamasters.com/masters-degrees/course/environmental-health-and-safety-management-ms/?i693d7481c44225   \n",
              "4191             https://www.findamasters.com/masters-degrees/course/health-and-well-being-management-ms/?i693d7481c63872   \n",
              "4279             https://www.findamasters.com/masters-degrees/course/health-systems-management-online-ms/?i693d7481c44232   \n",
              "4142               https://www.findamasters.com/masters-degrees/course/global-supply-chain-management-ms/?i693d7481c63871   \n",
              "\n",
              "       similarity  \n",
              "Index              \n",
              "2364     0.502326  \n",
              "3497     0.465306  \n",
              "4191     0.438095  \n",
              "4279     0.432558  \n",
              "4142     0.395122  "
            ],
            "text/html": [
              "\n",
              "  <div id=\"df-bd72cd47-44f6-49f7-859b-9bf5523477db\" class=\"colab-df-container\">\n",
              "    <div>\n",
              "<style scoped>\n",
              "    .dataframe tbody tr th:only-of-type {\n",
              "        vertical-align: middle;\n",
              "    }\n",
              "\n",
              "    .dataframe tbody tr th {\n",
              "        vertical-align: top;\n",
              "    }\n",
              "\n",
              "    .dataframe thead th {\n",
              "        text-align: right;\n",
              "    }\n",
              "</style>\n",
              "<table border=\"1\" class=\"dataframe\">\n",
              "  <thead>\n",
              "    <tr style=\"text-align: right;\">\n",
              "      <th></th>\n",
              "      <th>courseName</th>\n",
              "      <th>universityName</th>\n",
              "      <th>description</th>\n",
              "      <th>url</th>\n",
              "      <th>similarity</th>\n",
              "    </tr>\n",
              "    <tr>\n",
              "      <th>Index</th>\n",
              "      <th></th>\n",
              "      <th></th>\n",
              "      <th></th>\n",
              "      <th></th>\n",
              "      <th></th>\n",
              "    </tr>\n",
              "  </thead>\n",
              "  <tbody>\n",
              "    <tr>\n",
              "      <th>2364</th>\n",
              "      <td>Construction Management MS (Online)</td>\n",
              "      <td>Rochester Institute of Technology USA</td>\n",
              "      <td>Online ExclusivelyCo-op/Internship Encouraged100% Outcome Rate of RIT Graduates from this degree88K+ Annual Salary for these Jobs11% Employment Growth in this</td>\n",
              "      <td>https://www.findamasters.com/masters-degrees/course/construction-management-ms-online/?i693d7481c63870</td>\n",
              "      <td>0.502326</td>\n",
              "    </tr>\n",
              "    <tr>\n",
              "      <th>3497</th>\n",
              "      <td>Environmental, Health and Safety Management MS</td>\n",
              "      <td>Rochester Institute of Technology USA</td>\n",
              "      <td>Online Option AvailableCo-op/Internship EncouragedSTEM-OPT Visa Eligible100% Outcome Rate of RIT Graduates from this degree$80K Median First-Year Salary of RIT Graduates from</td>\n",
              "      <td>https://www.findamasters.com/masters-degrees/course/environmental-health-and-safety-management-ms/?i693d7481c44225</td>\n",
              "      <td>0.465306</td>\n",
              "    </tr>\n",
              "    <tr>\n",
              "      <th>4191</th>\n",
              "      <td>Health and Well-being Management MS</td>\n",
              "      <td>Rochester Institute of Technology USA</td>\n",
              "      <td>100% Outcome Rate of RIT Graduates from this degreeChoose from two options in: (1) content development, implementation, and evaluation or (2) health and well-being program management.</td>\n",
              "      <td>https://www.findamasters.com/masters-degrees/course/health-and-well-being-management-ms/?i693d7481c63872</td>\n",
              "      <td>0.438095</td>\n",
              "    </tr>\n",
              "    <tr>\n",
              "      <th>4279</th>\n",
              "      <td>Health Systems Management (Online)  MS</td>\n",
              "      <td>Rochester Institute of Technology USA</td>\n",
              "      <td>Online Exclusively100% Outcome Rate of RIT Graduates from this degree$87K Median First-Year Salary of RIT Graduates from this degree75k+ Average Annual Salary20% Employment Growth by</td>\n",
              "      <td>https://www.findamasters.com/masters-degrees/course/health-systems-management-online-ms/?i693d7481c44232</td>\n",
              "      <td>0.432558</td>\n",
              "    </tr>\n",
              "    <tr>\n",
              "      <th>4142</th>\n",
              "      <td>Global Supply Chain Management MS</td>\n",
              "      <td>Rochester Institute of Technology USA</td>\n",
              "      <td>Co-op/Internship EncouragedSTEM-OPT Visa Eligible100% Outcome Rate of RIT Graduates from this degreeThis interdisciplinary program integrates supply chain management and logistics, operations management, analytics, industrial engineering, global business, and management.</td>\n",
              "      <td>https://www.findamasters.com/masters-degrees/course/global-supply-chain-management-ms/?i693d7481c63871</td>\n",
              "      <td>0.395122</td>\n",
              "    </tr>\n",
              "  </tbody>\n",
              "</table>\n",
              "</div>\n",
              "    <div class=\"colab-df-buttons\">\n",
              "\n",
              "  <div class=\"colab-df-container\">\n",
              "    <button class=\"colab-df-convert\" onclick=\"convertToInteractive('df-bd72cd47-44f6-49f7-859b-9bf5523477db')\"\n",
              "            title=\"Convert this dataframe to an interactive table.\"\n",
              "            style=\"display:none;\">\n",
              "\n",
              "  <svg xmlns=\"http://www.w3.org/2000/svg\" height=\"24px\" viewBox=\"0 -960 960 960\">\n",
              "    <path d=\"M120-120v-720h720v720H120Zm60-500h600v-160H180v160Zm220 220h160v-160H400v160Zm0 220h160v-160H400v160ZM180-400h160v-160H180v160Zm440 0h160v-160H620v160ZM180-180h160v-160H180v160Zm440 0h160v-160H620v160Z\"/>\n",
              "  </svg>\n",
              "    </button>\n",
              "\n",
              "  <style>\n",
              "    .colab-df-container {\n",
              "      display:flex;\n",
              "      gap: 12px;\n",
              "    }\n",
              "\n",
              "    .colab-df-convert {\n",
              "      background-color: #E8F0FE;\n",
              "      border: none;\n",
              "      border-radius: 50%;\n",
              "      cursor: pointer;\n",
              "      display: none;\n",
              "      fill: #1967D2;\n",
              "      height: 32px;\n",
              "      padding: 0 0 0 0;\n",
              "      width: 32px;\n",
              "    }\n",
              "\n",
              "    .colab-df-convert:hover {\n",
              "      background-color: #E2EBFA;\n",
              "      box-shadow: 0px 1px 2px rgba(60, 64, 67, 0.3), 0px 1px 3px 1px rgba(60, 64, 67, 0.15);\n",
              "      fill: #174EA6;\n",
              "    }\n",
              "\n",
              "    .colab-df-buttons div {\n",
              "      margin-bottom: 4px;\n",
              "    }\n",
              "\n",
              "    [theme=dark] .colab-df-convert {\n",
              "      background-color: #3B4455;\n",
              "      fill: #D2E3FC;\n",
              "    }\n",
              "\n",
              "    [theme=dark] .colab-df-convert:hover {\n",
              "      background-color: #434B5C;\n",
              "      box-shadow: 0px 1px 3px 1px rgba(0, 0, 0, 0.15);\n",
              "      filter: drop-shadow(0px 1px 2px rgba(0, 0, 0, 0.3));\n",
              "      fill: #FFFFFF;\n",
              "    }\n",
              "  </style>\n",
              "\n",
              "    <script>\n",
              "      const buttonEl =\n",
              "        document.querySelector('#df-bd72cd47-44f6-49f7-859b-9bf5523477db button.colab-df-convert');\n",
              "      buttonEl.style.display =\n",
              "        google.colab.kernel.accessAllowed ? 'block' : 'none';\n",
              "\n",
              "      async function convertToInteractive(key) {\n",
              "        const element = document.querySelector('#df-bd72cd47-44f6-49f7-859b-9bf5523477db');\n",
              "        const dataTable =\n",
              "          await google.colab.kernel.invokeFunction('convertToInteractive',\n",
              "                                                    [key], {});\n",
              "        if (!dataTable) return;\n",
              "\n",
              "        const docLinkHtml = 'Like what you see? Visit the ' +\n",
              "          '<a target=\"_blank\" href=https://colab.research.google.com/notebooks/data_table.ipynb>data table notebook</a>'\n",
              "          + ' to learn more about interactive tables.';\n",
              "        element.innerHTML = '';\n",
              "        dataTable['output_type'] = 'display_data';\n",
              "        await google.colab.output.renderOutput(dataTable, element);\n",
              "        const docLink = document.createElement('div');\n",
              "        docLink.innerHTML = docLinkHtml;\n",
              "        element.appendChild(docLink);\n",
              "      }\n",
              "    </script>\n",
              "  </div>\n",
              "\n",
              "\n",
              "<div id=\"df-4ab38a4f-c2d2-4893-92ae-697e116e05db\">\n",
              "  <button class=\"colab-df-quickchart\" onclick=\"quickchart('df-4ab38a4f-c2d2-4893-92ae-697e116e05db')\"\n",
              "            title=\"Suggest charts\"\n",
              "            style=\"display:none;\">\n",
              "\n",
              "<svg xmlns=\"http://www.w3.org/2000/svg\" height=\"24px\"viewBox=\"0 0 24 24\"\n",
              "     width=\"24px\">\n",
              "    <g>\n",
              "        <path d=\"M19 3H5c-1.1 0-2 .9-2 2v14c0 1.1.9 2 2 2h14c1.1 0 2-.9 2-2V5c0-1.1-.9-2-2-2zM9 17H7v-7h2v7zm4 0h-2V7h2v10zm4 0h-2v-4h2v4z\"/>\n",
              "    </g>\n",
              "</svg>\n",
              "  </button>\n",
              "\n",
              "<style>\n",
              "  .colab-df-quickchart {\n",
              "      --bg-color: #E8F0FE;\n",
              "      --fill-color: #1967D2;\n",
              "      --hover-bg-color: #E2EBFA;\n",
              "      --hover-fill-color: #174EA6;\n",
              "      --disabled-fill-color: #AAA;\n",
              "      --disabled-bg-color: #DDD;\n",
              "  }\n",
              "\n",
              "  [theme=dark] .colab-df-quickchart {\n",
              "      --bg-color: #3B4455;\n",
              "      --fill-color: #D2E3FC;\n",
              "      --hover-bg-color: #434B5C;\n",
              "      --hover-fill-color: #FFFFFF;\n",
              "      --disabled-bg-color: #3B4455;\n",
              "      --disabled-fill-color: #666;\n",
              "  }\n",
              "\n",
              "  .colab-df-quickchart {\n",
              "    background-color: var(--bg-color);\n",
              "    border: none;\n",
              "    border-radius: 50%;\n",
              "    cursor: pointer;\n",
              "    display: none;\n",
              "    fill: var(--fill-color);\n",
              "    height: 32px;\n",
              "    padding: 0;\n",
              "    width: 32px;\n",
              "  }\n",
              "\n",
              "  .colab-df-quickchart:hover {\n",
              "    background-color: var(--hover-bg-color);\n",
              "    box-shadow: 0 1px 2px rgba(60, 64, 67, 0.3), 0 1px 3px 1px rgba(60, 64, 67, 0.15);\n",
              "    fill: var(--button-hover-fill-color);\n",
              "  }\n",
              "\n",
              "  .colab-df-quickchart-complete:disabled,\n",
              "  .colab-df-quickchart-complete:disabled:hover {\n",
              "    background-color: var(--disabled-bg-color);\n",
              "    fill: var(--disabled-fill-color);\n",
              "    box-shadow: none;\n",
              "  }\n",
              "\n",
              "  .colab-df-spinner {\n",
              "    border: 2px solid var(--fill-color);\n",
              "    border-color: transparent;\n",
              "    border-bottom-color: var(--fill-color);\n",
              "    animation:\n",
              "      spin 1s steps(1) infinite;\n",
              "  }\n",
              "\n",
              "  @keyframes spin {\n",
              "    0% {\n",
              "      border-color: transparent;\n",
              "      border-bottom-color: var(--fill-color);\n",
              "      border-left-color: var(--fill-color);\n",
              "    }\n",
              "    20% {\n",
              "      border-color: transparent;\n",
              "      border-left-color: var(--fill-color);\n",
              "      border-top-color: var(--fill-color);\n",
              "    }\n",
              "    30% {\n",
              "      border-color: transparent;\n",
              "      border-left-color: var(--fill-color);\n",
              "      border-top-color: var(--fill-color);\n",
              "      border-right-color: var(--fill-color);\n",
              "    }\n",
              "    40% {\n",
              "      border-color: transparent;\n",
              "      border-right-color: var(--fill-color);\n",
              "      border-top-color: var(--fill-color);\n",
              "    }\n",
              "    60% {\n",
              "      border-color: transparent;\n",
              "      border-right-color: var(--fill-color);\n",
              "    }\n",
              "    80% {\n",
              "      border-color: transparent;\n",
              "      border-right-color: var(--fill-color);\n",
              "      border-bottom-color: var(--fill-color);\n",
              "    }\n",
              "    90% {\n",
              "      border-color: transparent;\n",
              "      border-bottom-color: var(--fill-color);\n",
              "    }\n",
              "  }\n",
              "</style>\n",
              "\n",
              "  <script>\n",
              "    async function quickchart(key) {\n",
              "      const quickchartButtonEl =\n",
              "        document.querySelector('#' + key + ' button');\n",
              "      quickchartButtonEl.disabled = true;  // To prevent multiple clicks.\n",
              "      quickchartButtonEl.classList.add('colab-df-spinner');\n",
              "      try {\n",
              "        const charts = await google.colab.kernel.invokeFunction(\n",
              "            'suggestCharts', [key], {});\n",
              "      } catch (error) {\n",
              "        console.error('Error during call to suggestCharts:', error);\n",
              "      }\n",
              "      quickchartButtonEl.classList.remove('colab-df-spinner');\n",
              "      quickchartButtonEl.classList.add('colab-df-quickchart-complete');\n",
              "    }\n",
              "    (() => {\n",
              "      let quickchartButtonEl =\n",
              "        document.querySelector('#df-4ab38a4f-c2d2-4893-92ae-697e116e05db button');\n",
              "      quickchartButtonEl.style.display =\n",
              "        google.colab.kernel.accessAllowed ? 'block' : 'none';\n",
              "    })();\n",
              "  </script>\n",
              "</div>\n",
              "    </div>\n",
              "  </div>\n"
            ]
          },
          "metadata": {},
          "execution_count": 105
        }
      ]
    },
    {
      "cell_type": "markdown",
      "source": [
        "In this second case we note that using cosine similarity we will have by not considering the additional score a higher score. This is because cosine similarity takes into account the frequency of the query words in the text with which it is compared, while jaccard similarity bases its score only on the presence/absence of the query words in the text. Not surprisingly, we get two different dataframes as output.\n",
        "\n",
        "Please Note: I used the hide warning because the score function used before was printing me the desired result but with a sklearn warning since empty or null values could happen in the function (specifically in columns like \"isItFullTime\").\n"
      ],
      "metadata": {
        "id": "n8SrDUlcta_Z"
      }
    },
    {
      "cell_type": "code",
      "source": [
        "\n",
        "k=450\n",
        "top_k_results = Research2(Query, masters_df, k)\n",
        "#pd.set_option(\"display.max_colwidth\", None)\n",
        "\n",
        "top_k_results"
      ],
      "metadata": {
        "id": "9ZXo_4QuZ-1w",
        "colab": {
          "base_uri": "https://localhost:8080/",
          "height": 870
        },
        "outputId": "b22732b0-2fe5-4e8a-de61-20a79f8e5db6"
      },
      "execution_count": 106,
      "outputs": [
        {
          "output_type": "execute_result",
          "data": {
            "text/plain": [
              "       Similarity  \\\n",
              "Index               \n",
              "3117     0.407913   \n",
              "3115     0.407913   \n",
              "1697     0.341545   \n",
              "2381     0.329910   \n",
              "5816     0.327757   \n",
              "...           ...   \n",
              "5957     0.124847   \n",
              "367      0.123927   \n",
              "5295     0.123927   \n",
              "564      0.123927   \n",
              "5270     0.123700   \n",
              "\n",
              "                                                          courseName  \\\n",
              "Index                                                                  \n",
              "3117                       Educational Leadership and Management MSc   \n",
              "3115   Educational Leadership and Management (Distance Learning) MSc   \n",
              "1697                                     Business and Management MSc   \n",
              "2381                             Construction Project Management MSc   \n",
              "5816          Master of Science in Engineering Enterprise Management   \n",
              "...                                                              ...   \n",
              "5957        Master's in Business Analysis and Performance Management   \n",
              "367                      MSc Management with optional specialization   \n",
              "5295                              Management of Complex Projects MSc   \n",
              "564                                                   Accounting MSc   \n",
              "5270          Management Consultancy and Organisational Change (MSc)   \n",
              "\n",
              "                                           universityName  \\\n",
              "Index                                                       \n",
              "3117                             University of Portsmouth   \n",
              "3115                             University of Portsmouth   \n",
              "1697                               University of Stirling   \n",
              "2381                     Liverpool John Moores University   \n",
              "5816   The Hong Kong University of Science and Technology   \n",
              "...                                                   ...   \n",
              "5957                    NHH Norwegian School of Economics   \n",
              "367           The London Institute of Banking and Finance   \n",
              "5295                            University College London   \n",
              "564                                 University of Chester   \n",
              "5270                       Birkbeck, University of London   \n",
              "\n",
              "                                                                                                                                                                                                                                                                                                                                                                                                                                                                                                                                                                                                                                                               description  \\\n",
              "Index                                                                                                                                                                                                                                                                                                                                                                                                                                                                                                                                                                                                                                                                        \n",
              "3117                                                                                                                                                    If you're currently working, or aspire to work in an education-connected role and want to gain a qualification that demonstrates that you have developed your leadership and management skills, our Educational Leadership and Management course is for you.Offered as a MSc, PgDip and PgCert, you can study this course full-time, part-time or part-time by distance learning. The MSc and PgDip take one year full time and two years part time. The PgCert takes six months full time and one year part time.   \n",
              "3115                                                                                                                                                    If you're currently working, or aspire to work in an education-connected role and want to gain a qualification that demonstrates that you have developed your leadership and management skills, our Educational Leadership and Management course is for you.Offered as a MSc, PgDip and PgCert, you can study this course full-time, part-time or part-time by distance learning. The MSc and PgDip take one year full time and two years part time. The PgCert takes six months full time and one year part time.   \n",
              "1697                                                                                                                                                                                                                                                                                                                 Our MSc Business and Management course gives you the knowledge and skills you need to be an inspiring, effective and resilient manager. We combine management theory with development of practical skills, and our course is taught by internationally recognised subject experts. It can be taken on a 12-month full-time basis or part time over 24   \n",
              "2381                                                                                                                                                                                                                                                                                                                                                                                                                                                                                   Learn how to lead and integrate a team of multi-disciplinary professionals on LJMU's Construction Project Management Masters.This course is available to studyfull-timeorpart-time.   \n",
              "5816   In today's knowledge-based economy, companies and enterprises must compete relentlessly in terms of costs, quality and time to market themselves in the global context. Knowledge of cutting-edge management techniques, such as Logistics Management, Supply Chain Management, Six Sigma Processes, and knowledge in the effective deployment of information technology, are necessary to help companies compete successfully in the global arena. In addition, a good foundation in basic managerial training, such as operations management, project management, people management and basic business management, is essential in launching a management career.   \n",
              "...                                                                                                                                                                                                                                                                                                                                                                                                                                                                                                                                                                                                                                                                    ...   \n",
              "5957                 The Business Analysis and Performance Management (BUS) major provides students with insights into how value creation in firms and organisations can be measured, analysed and managed in the best possible way.A good understanding of how different governance mechanisms work is a prerequisite for the entire organisation to work towards the same goals and visions.Business analysis is the foundation for decisions concerning investments, product- and customer portfolio, pricing, production management and logistics. Financial accounting is a central communication tool towards external stakeholders such as investors and borrowers.   \n",
              "367                                    Enhance your career with our Master's in Management. Our programme equips you with the skills to make impactful strategic business decisions and drive success on a global scale.Our flexible online learning lets you complete the degree at your pace, while our cutting-edge platform and expert support ensure your success. You’ll also have the option to select between two alternatives study paths – our standard management programme or a programme with a specialisation. Join us to connect with a community of leading academics, experts, and students worldwide, and achieve your career aspirations in management.   \n",
              "5295                                                                                                                                                                                                      In today's fast-moving, global marketplace, traditional project management techniques based around strategic planning and control are not enough. Many modern projects are not only complicated (tough technical problems needing co-ordination across many suppliers) but also complex (with unclear requirements). The new Management of Complex Projects MSc has been designed to produce project managers equipped to lead the most challenging of projects.   \n",
              "564                                                                                                           This MSc Accounting course supports the development of your professional career in business, accounting and financial management.This course is aligned to the Association of Chartered Certified Accountants (ACCA) professional examinations.Successful completion of the course will enhance your understanding of financial management and reporting, performance management, risk and corporate governance.Students will develop an understanding of a range of research methods and analytical techniques through an introduction to research methods.   \n",
              "5270                                                                                                                                                                                                                                                                                                                                                      Our MSc Management Consultancy and Organisational Change blends management consultancy theory and practice from the viewpoint of organisational and strategic change. This unique and innovative degree offers you the opportunity to develop your knowledge, skills and capabilities to operate as a successful   \n",
              "\n",
              "                                                                                                                                    url  \n",
              "Index                                                                                                                                    \n",
              "3117                     https://www.findamasters.com/masters-degrees/course/educational-leadership-and-management-msc/?i343d8998c43995  \n",
              "3115   https://www.findamasters.com/masters-degrees/course/educational-leadership-and-management-distance-learning-msc/?i343d8998c12738  \n",
              "1697                                   https://www.findamasters.com/masters-degrees/course/business-and-management-msc/?i352d8075c37803  \n",
              "2381                            https://www.findamasters.com/masters-degrees/course/construction-project-management-msc/?i147d3863c9219  \n",
              "5816       https://www.findamasters.com/masters-degrees/course/master-of-science-in-engineering-enterprise-management/?i1175d8756c57657  \n",
              "...                                                                                                                                 ...  \n",
              "5957     https://www.findamasters.com/masters-degrees/course/master-s-in-business-analysis-and-performance-management/?i1488d6851c58871  \n",
              "367                    https://www.findamasters.com/masters-degrees/course/msc-management-with-optional-specialization/?i394d8872c71606  \n",
              "5295                            https://www.findamasters.com/masters-degrees/course/management-of-complex-projects-msc/?i274d1844c40245  \n",
              "564                                                 https://www.findamasters.com/masters-degrees/course/accounting-msc/?i292d4965c68264  \n",
              "5270           https://www.findamasters.com/masters-degrees/course/management-consultancy-and-organisational-change-msc/?i16d9009c26237  \n",
              "\n",
              "[450 rows x 5 columns]"
            ],
            "text/html": [
              "\n",
              "  <div id=\"df-b1fb4ecc-4cbd-49af-aa6e-3507b09d1e40\" class=\"colab-df-container\">\n",
              "    <div>\n",
              "<style scoped>\n",
              "    .dataframe tbody tr th:only-of-type {\n",
              "        vertical-align: middle;\n",
              "    }\n",
              "\n",
              "    .dataframe tbody tr th {\n",
              "        vertical-align: top;\n",
              "    }\n",
              "\n",
              "    .dataframe thead th {\n",
              "        text-align: right;\n",
              "    }\n",
              "</style>\n",
              "<table border=\"1\" class=\"dataframe\">\n",
              "  <thead>\n",
              "    <tr style=\"text-align: right;\">\n",
              "      <th></th>\n",
              "      <th>Similarity</th>\n",
              "      <th>courseName</th>\n",
              "      <th>universityName</th>\n",
              "      <th>description</th>\n",
              "      <th>url</th>\n",
              "    </tr>\n",
              "    <tr>\n",
              "      <th>Index</th>\n",
              "      <th></th>\n",
              "      <th></th>\n",
              "      <th></th>\n",
              "      <th></th>\n",
              "      <th></th>\n",
              "    </tr>\n",
              "  </thead>\n",
              "  <tbody>\n",
              "    <tr>\n",
              "      <th>3117</th>\n",
              "      <td>0.407913</td>\n",
              "      <td>Educational Leadership and Management MSc</td>\n",
              "      <td>University of Portsmouth</td>\n",
              "      <td>If you're currently working, or aspire to work in an education-connected role and want to gain a qualification that demonstrates that you have developed your leadership and management skills, our Educational Leadership and Management course is for you.Offered as a MSc, PgDip and PgCert, you can study this course full-time, part-time or part-time by distance learning. The MSc and PgDip take one year full time and two years part time. The PgCert takes six months full time and one year part time.</td>\n",
              "      <td>https://www.findamasters.com/masters-degrees/course/educational-leadership-and-management-msc/?i343d8998c43995</td>\n",
              "    </tr>\n",
              "    <tr>\n",
              "      <th>3115</th>\n",
              "      <td>0.407913</td>\n",
              "      <td>Educational Leadership and Management (Distance Learning) MSc</td>\n",
              "      <td>University of Portsmouth</td>\n",
              "      <td>If you're currently working, or aspire to work in an education-connected role and want to gain a qualification that demonstrates that you have developed your leadership and management skills, our Educational Leadership and Management course is for you.Offered as a MSc, PgDip and PgCert, you can study this course full-time, part-time or part-time by distance learning. The MSc and PgDip take one year full time and two years part time. The PgCert takes six months full time and one year part time.</td>\n",
              "      <td>https://www.findamasters.com/masters-degrees/course/educational-leadership-and-management-distance-learning-msc/?i343d8998c12738</td>\n",
              "    </tr>\n",
              "    <tr>\n",
              "      <th>1697</th>\n",
              "      <td>0.341545</td>\n",
              "      <td>Business and Management MSc</td>\n",
              "      <td>University of Stirling</td>\n",
              "      <td>Our MSc Business and Management course gives you the knowledge and skills you need to be an inspiring, effective and resilient manager. We combine management theory with development of practical skills, and our course is taught by internationally recognised subject experts. It can be taken on a 12-month full-time basis or part time over 24</td>\n",
              "      <td>https://www.findamasters.com/masters-degrees/course/business-and-management-msc/?i352d8075c37803</td>\n",
              "    </tr>\n",
              "    <tr>\n",
              "      <th>2381</th>\n",
              "      <td>0.329910</td>\n",
              "      <td>Construction Project Management MSc</td>\n",
              "      <td>Liverpool John Moores University</td>\n",
              "      <td>Learn how to lead and integrate a team of multi-disciplinary professionals on LJMU's Construction Project Management Masters.This course is available to studyfull-timeorpart-time.</td>\n",
              "      <td>https://www.findamasters.com/masters-degrees/course/construction-project-management-msc/?i147d3863c9219</td>\n",
              "    </tr>\n",
              "    <tr>\n",
              "      <th>5816</th>\n",
              "      <td>0.327757</td>\n",
              "      <td>Master of Science in Engineering Enterprise Management</td>\n",
              "      <td>The Hong Kong University of Science and Technology</td>\n",
              "      <td>In today's knowledge-based economy, companies and enterprises must compete relentlessly in terms of costs, quality and time to market themselves in the global context. Knowledge of cutting-edge management techniques, such as Logistics Management, Supply Chain Management, Six Sigma Processes, and knowledge in the effective deployment of information technology, are necessary to help companies compete successfully in the global arena. In addition, a good foundation in basic managerial training, such as operations management, project management, people management and basic business management, is essential in launching a management career.</td>\n",
              "      <td>https://www.findamasters.com/masters-degrees/course/master-of-science-in-engineering-enterprise-management/?i1175d8756c57657</td>\n",
              "    </tr>\n",
              "    <tr>\n",
              "      <th>...</th>\n",
              "      <td>...</td>\n",
              "      <td>...</td>\n",
              "      <td>...</td>\n",
              "      <td>...</td>\n",
              "      <td>...</td>\n",
              "    </tr>\n",
              "    <tr>\n",
              "      <th>5957</th>\n",
              "      <td>0.124847</td>\n",
              "      <td>Master's in Business Analysis and Performance Management</td>\n",
              "      <td>NHH Norwegian School of Economics</td>\n",
              "      <td>The Business Analysis and Performance Management (BUS) major provides students with insights into how value creation in firms and organisations can be measured, analysed and managed in the best possible way.A good understanding of how different governance mechanisms work is a prerequisite for the entire organisation to work towards the same goals and visions.Business analysis is the foundation for decisions concerning investments, product- and customer portfolio, pricing, production management and logistics. Financial accounting is a central communication tool towards external stakeholders such as investors and borrowers.</td>\n",
              "      <td>https://www.findamasters.com/masters-degrees/course/master-s-in-business-analysis-and-performance-management/?i1488d6851c58871</td>\n",
              "    </tr>\n",
              "    <tr>\n",
              "      <th>367</th>\n",
              "      <td>0.123927</td>\n",
              "      <td>MSc Management with optional specialization</td>\n",
              "      <td>The London Institute of Banking and Finance</td>\n",
              "      <td>Enhance your career with our Master's in Management. Our programme equips you with the skills to make impactful strategic business decisions and drive success on a global scale.Our flexible online learning lets you complete the degree at your pace, while our cutting-edge platform and expert support ensure your success. You’ll also have the option to select between two alternatives study paths – our standard management programme or a programme with a specialisation. Join us to connect with a community of leading academics, experts, and students worldwide, and achieve your career aspirations in management.</td>\n",
              "      <td>https://www.findamasters.com/masters-degrees/course/msc-management-with-optional-specialization/?i394d8872c71606</td>\n",
              "    </tr>\n",
              "    <tr>\n",
              "      <th>5295</th>\n",
              "      <td>0.123927</td>\n",
              "      <td>Management of Complex Projects MSc</td>\n",
              "      <td>University College London</td>\n",
              "      <td>In today's fast-moving, global marketplace, traditional project management techniques based around strategic planning and control are not enough. Many modern projects are not only complicated (tough technical problems needing co-ordination across many suppliers) but also complex (with unclear requirements). The new Management of Complex Projects MSc has been designed to produce project managers equipped to lead the most challenging of projects.</td>\n",
              "      <td>https://www.findamasters.com/masters-degrees/course/management-of-complex-projects-msc/?i274d1844c40245</td>\n",
              "    </tr>\n",
              "    <tr>\n",
              "      <th>564</th>\n",
              "      <td>0.123927</td>\n",
              "      <td>Accounting MSc</td>\n",
              "      <td>University of Chester</td>\n",
              "      <td>This MSc Accounting course supports the development of your professional career in business, accounting and financial management.This course is aligned to the Association of Chartered Certified Accountants (ACCA) professional examinations.Successful completion of the course will enhance your understanding of financial management and reporting, performance management, risk and corporate governance.Students will develop an understanding of a range of research methods and analytical techniques through an introduction to research methods.</td>\n",
              "      <td>https://www.findamasters.com/masters-degrees/course/accounting-msc/?i292d4965c68264</td>\n",
              "    </tr>\n",
              "    <tr>\n",
              "      <th>5270</th>\n",
              "      <td>0.123700</td>\n",
              "      <td>Management Consultancy and Organisational Change (MSc)</td>\n",
              "      <td>Birkbeck, University of London</td>\n",
              "      <td>Our MSc Management Consultancy and Organisational Change blends management consultancy theory and practice from the viewpoint of organisational and strategic change. This unique and innovative degree offers you the opportunity to develop your knowledge, skills and capabilities to operate as a successful</td>\n",
              "      <td>https://www.findamasters.com/masters-degrees/course/management-consultancy-and-organisational-change-msc/?i16d9009c26237</td>\n",
              "    </tr>\n",
              "  </tbody>\n",
              "</table>\n",
              "<p>450 rows × 5 columns</p>\n",
              "</div>\n",
              "    <div class=\"colab-df-buttons\">\n",
              "\n",
              "  <div class=\"colab-df-container\">\n",
              "    <button class=\"colab-df-convert\" onclick=\"convertToInteractive('df-b1fb4ecc-4cbd-49af-aa6e-3507b09d1e40')\"\n",
              "            title=\"Convert this dataframe to an interactive table.\"\n",
              "            style=\"display:none;\">\n",
              "\n",
              "  <svg xmlns=\"http://www.w3.org/2000/svg\" height=\"24px\" viewBox=\"0 -960 960 960\">\n",
              "    <path d=\"M120-120v-720h720v720H120Zm60-500h600v-160H180v160Zm220 220h160v-160H400v160Zm0 220h160v-160H400v160ZM180-400h160v-160H180v160Zm440 0h160v-160H620v160ZM180-180h160v-160H180v160Zm440 0h160v-160H620v160Z\"/>\n",
              "  </svg>\n",
              "    </button>\n",
              "\n",
              "  <style>\n",
              "    .colab-df-container {\n",
              "      display:flex;\n",
              "      gap: 12px;\n",
              "    }\n",
              "\n",
              "    .colab-df-convert {\n",
              "      background-color: #E8F0FE;\n",
              "      border: none;\n",
              "      border-radius: 50%;\n",
              "      cursor: pointer;\n",
              "      display: none;\n",
              "      fill: #1967D2;\n",
              "      height: 32px;\n",
              "      padding: 0 0 0 0;\n",
              "      width: 32px;\n",
              "    }\n",
              "\n",
              "    .colab-df-convert:hover {\n",
              "      background-color: #E2EBFA;\n",
              "      box-shadow: 0px 1px 2px rgba(60, 64, 67, 0.3), 0px 1px 3px 1px rgba(60, 64, 67, 0.15);\n",
              "      fill: #174EA6;\n",
              "    }\n",
              "\n",
              "    .colab-df-buttons div {\n",
              "      margin-bottom: 4px;\n",
              "    }\n",
              "\n",
              "    [theme=dark] .colab-df-convert {\n",
              "      background-color: #3B4455;\n",
              "      fill: #D2E3FC;\n",
              "    }\n",
              "\n",
              "    [theme=dark] .colab-df-convert:hover {\n",
              "      background-color: #434B5C;\n",
              "      box-shadow: 0px 1px 3px 1px rgba(0, 0, 0, 0.15);\n",
              "      filter: drop-shadow(0px 1px 2px rgba(0, 0, 0, 0.3));\n",
              "      fill: #FFFFFF;\n",
              "    }\n",
              "  </style>\n",
              "\n",
              "    <script>\n",
              "      const buttonEl =\n",
              "        document.querySelector('#df-b1fb4ecc-4cbd-49af-aa6e-3507b09d1e40 button.colab-df-convert');\n",
              "      buttonEl.style.display =\n",
              "        google.colab.kernel.accessAllowed ? 'block' : 'none';\n",
              "\n",
              "      async function convertToInteractive(key) {\n",
              "        const element = document.querySelector('#df-b1fb4ecc-4cbd-49af-aa6e-3507b09d1e40');\n",
              "        const dataTable =\n",
              "          await google.colab.kernel.invokeFunction('convertToInteractive',\n",
              "                                                    [key], {});\n",
              "        if (!dataTable) return;\n",
              "\n",
              "        const docLinkHtml = 'Like what you see? Visit the ' +\n",
              "          '<a target=\"_blank\" href=https://colab.research.google.com/notebooks/data_table.ipynb>data table notebook</a>'\n",
              "          + ' to learn more about interactive tables.';\n",
              "        element.innerHTML = '';\n",
              "        dataTable['output_type'] = 'display_data';\n",
              "        await google.colab.output.renderOutput(dataTable, element);\n",
              "        const docLink = document.createElement('div');\n",
              "        docLink.innerHTML = docLinkHtml;\n",
              "        element.appendChild(docLink);\n",
              "      }\n",
              "    </script>\n",
              "  </div>\n",
              "\n",
              "\n",
              "<div id=\"df-2900555d-3094-417d-b461-0a6858e9283b\">\n",
              "  <button class=\"colab-df-quickchart\" onclick=\"quickchart('df-2900555d-3094-417d-b461-0a6858e9283b')\"\n",
              "            title=\"Suggest charts\"\n",
              "            style=\"display:none;\">\n",
              "\n",
              "<svg xmlns=\"http://www.w3.org/2000/svg\" height=\"24px\"viewBox=\"0 0 24 24\"\n",
              "     width=\"24px\">\n",
              "    <g>\n",
              "        <path d=\"M19 3H5c-1.1 0-2 .9-2 2v14c0 1.1.9 2 2 2h14c1.1 0 2-.9 2-2V5c0-1.1-.9-2-2-2zM9 17H7v-7h2v7zm4 0h-2V7h2v10zm4 0h-2v-4h2v4z\"/>\n",
              "    </g>\n",
              "</svg>\n",
              "  </button>\n",
              "\n",
              "<style>\n",
              "  .colab-df-quickchart {\n",
              "      --bg-color: #E8F0FE;\n",
              "      --fill-color: #1967D2;\n",
              "      --hover-bg-color: #E2EBFA;\n",
              "      --hover-fill-color: #174EA6;\n",
              "      --disabled-fill-color: #AAA;\n",
              "      --disabled-bg-color: #DDD;\n",
              "  }\n",
              "\n",
              "  [theme=dark] .colab-df-quickchart {\n",
              "      --bg-color: #3B4455;\n",
              "      --fill-color: #D2E3FC;\n",
              "      --hover-bg-color: #434B5C;\n",
              "      --hover-fill-color: #FFFFFF;\n",
              "      --disabled-bg-color: #3B4455;\n",
              "      --disabled-fill-color: #666;\n",
              "  }\n",
              "\n",
              "  .colab-df-quickchart {\n",
              "    background-color: var(--bg-color);\n",
              "    border: none;\n",
              "    border-radius: 50%;\n",
              "    cursor: pointer;\n",
              "    display: none;\n",
              "    fill: var(--fill-color);\n",
              "    height: 32px;\n",
              "    padding: 0;\n",
              "    width: 32px;\n",
              "  }\n",
              "\n",
              "  .colab-df-quickchart:hover {\n",
              "    background-color: var(--hover-bg-color);\n",
              "    box-shadow: 0 1px 2px rgba(60, 64, 67, 0.3), 0 1px 3px 1px rgba(60, 64, 67, 0.15);\n",
              "    fill: var(--button-hover-fill-color);\n",
              "  }\n",
              "\n",
              "  .colab-df-quickchart-complete:disabled,\n",
              "  .colab-df-quickchart-complete:disabled:hover {\n",
              "    background-color: var(--disabled-bg-color);\n",
              "    fill: var(--disabled-fill-color);\n",
              "    box-shadow: none;\n",
              "  }\n",
              "\n",
              "  .colab-df-spinner {\n",
              "    border: 2px solid var(--fill-color);\n",
              "    border-color: transparent;\n",
              "    border-bottom-color: var(--fill-color);\n",
              "    animation:\n",
              "      spin 1s steps(1) infinite;\n",
              "  }\n",
              "\n",
              "  @keyframes spin {\n",
              "    0% {\n",
              "      border-color: transparent;\n",
              "      border-bottom-color: var(--fill-color);\n",
              "      border-left-color: var(--fill-color);\n",
              "    }\n",
              "    20% {\n",
              "      border-color: transparent;\n",
              "      border-left-color: var(--fill-color);\n",
              "      border-top-color: var(--fill-color);\n",
              "    }\n",
              "    30% {\n",
              "      border-color: transparent;\n",
              "      border-left-color: var(--fill-color);\n",
              "      border-top-color: var(--fill-color);\n",
              "      border-right-color: var(--fill-color);\n",
              "    }\n",
              "    40% {\n",
              "      border-color: transparent;\n",
              "      border-right-color: var(--fill-color);\n",
              "      border-top-color: var(--fill-color);\n",
              "    }\n",
              "    60% {\n",
              "      border-color: transparent;\n",
              "      border-right-color: var(--fill-color);\n",
              "    }\n",
              "    80% {\n",
              "      border-color: transparent;\n",
              "      border-right-color: var(--fill-color);\n",
              "      border-bottom-color: var(--fill-color);\n",
              "    }\n",
              "    90% {\n",
              "      border-color: transparent;\n",
              "      border-bottom-color: var(--fill-color);\n",
              "    }\n",
              "  }\n",
              "</style>\n",
              "\n",
              "  <script>\n",
              "    async function quickchart(key) {\n",
              "      const quickchartButtonEl =\n",
              "        document.querySelector('#' + key + ' button');\n",
              "      quickchartButtonEl.disabled = true;  // To prevent multiple clicks.\n",
              "      quickchartButtonEl.classList.add('colab-df-spinner');\n",
              "      try {\n",
              "        const charts = await google.colab.kernel.invokeFunction(\n",
              "            'suggestCharts', [key], {});\n",
              "      } catch (error) {\n",
              "        console.error('Error during call to suggestCharts:', error);\n",
              "      }\n",
              "      quickchartButtonEl.classList.remove('colab-df-spinner');\n",
              "      quickchartButtonEl.classList.add('colab-df-quickchart-complete');\n",
              "    }\n",
              "    (() => {\n",
              "      let quickchartButtonEl =\n",
              "        document.querySelector('#df-2900555d-3094-417d-b461-0a6858e9283b button');\n",
              "      quickchartButtonEl.style.display =\n",
              "        google.colab.kernel.accessAllowed ? 'block' : 'none';\n",
              "    })();\n",
              "  </script>\n",
              "</div>\n",
              "    </div>\n",
              "  </div>\n"
            ]
          },
          "metadata": {},
          "execution_count": 106
        }
      ]
    },
    {
      "cell_type": "markdown",
      "source": [
        "# 4. Visualizing the most relevant MSc degrees"
      ],
      "metadata": {
        "id": "jY3Mr1WVhwoO"
      }
    },
    {
      "cell_type": "markdown",
      "source": [
        "Firstly we install the packages we will need for our task"
      ],
      "metadata": {
        "id": "fOefwgj4KKUF"
      }
    },
    {
      "cell_type": "code",
      "source": [
        "pip install geopy"
      ],
      "metadata": {
        "id": "r6CLC8juMXuZ"
      },
      "execution_count": null,
      "outputs": []
    },
    {
      "cell_type": "code",
      "source": [
        "from geopy.geocoders import Nominatim\n",
        "import folium\n",
        "from folium.plugins import MarkerCluster"
      ],
      "metadata": {
        "id": "GMuWOISEMaAn"
      },
      "execution_count": 108,
      "outputs": []
    },
    {
      "cell_type": "markdown",
      "source": [
        "We proceed to extract from the originl dataframe the lines corrisponding to the results of exercise 3, and we do a quick visualization of our data info"
      ],
      "metadata": {
        "id": "7wUPnKUiMbXz"
      }
    },
    {
      "cell_type": "code",
      "source": [
        "df_tomap=masters.loc[result_df.index]\n",
        "\n",
        "df_tomap.info()"
      ],
      "metadata": {
        "id": "P-bOawNwMfPt",
        "colab": {
          "base_uri": "https://localhost:8080/"
        },
        "outputId": "d2a39b59-602a-4d79-8002-d588e551b29f"
      },
      "execution_count": 109,
      "outputs": [
        {
          "output_type": "stream",
          "name": "stdout",
          "text": [
            "<class 'pandas.core.frame.DataFrame'>\n",
            "Int64Index: 40 entries, 2364 to 2681\n",
            "Data columns (total 16 columns):\n",
            " #   Column          Non-Null Count  Dtype  \n",
            "---  ------          --------------  -----  \n",
            " 0   courseName      40 non-null     object \n",
            " 1   universityName  40 non-null     object \n",
            " 2   facultyName     40 non-null     object \n",
            " 3   isItFullTime    40 non-null     object \n",
            " 4   description     40 non-null     object \n",
            " 5   startDate       40 non-null     object \n",
            " 6   fees            40 non-null     object \n",
            " 7   modality        40 non-null     object \n",
            " 8   duration        40 non-null     object \n",
            " 9   city            40 non-null     object \n",
            " 10  country         40 non-null     object \n",
            " 11  administration  35 non-null     object \n",
            " 12  url             40 non-null     object \n",
            " 13  descr_stem      40 non-null     object \n",
            " 14  fees_usd        1 non-null      float64\n",
            " 15  combined        40 non-null     object \n",
            "dtypes: float64(1), object(15)\n",
            "memory usage: 5.3+ KB\n"
          ]
        }
      ]
    },
    {
      "cell_type": "markdown",
      "source": [
        "To extract the longitude and latitude of each city we use the geopy library and its tool Nominatim"
      ],
      "metadata": {
        "id": "Slc7HoPcMrMc"
      }
    },
    {
      "cell_type": "code",
      "source": [
        "geo_lat_long = Nominatim(user_agent=\"HW3_geocoder\")  # tool for geolocalization"
      ],
      "metadata": {
        "id": "Af0cWVVBMt0V"
      },
      "execution_count": 110,
      "outputs": []
    },
    {
      "cell_type": "markdown",
      "source": [
        "We add to our dataframe the columns latitude and longitude, filled with the values extracted with our tool applied to all the entries in the column 'city'."
      ],
      "metadata": {
        "id": "C-uFOKxSMu5N"
      }
    },
    {
      "cell_type": "code",
      "source": [
        "warnings.filterwarnings(\"ignore\")\n",
        "df_tomap.loc[:, 'latitude'] = df_tomap['city'].apply(lambda localita: geo_lat_long.geocode(localita).latitude if geo_lat_long.geocode(localita) is not None else None)"
      ],
      "metadata": {
        "id": "9UENZd7jMv5O"
      },
      "execution_count": 111,
      "outputs": []
    },
    {
      "cell_type": "code",
      "source": [
        "df_tomap.loc[:, 'longitude'] = df_tomap['city'].apply(lambda localita: geo_lat_long.geocode(localita).longitude if geo_lat_long.geocode(localita) is not None else None)"
      ],
      "metadata": {
        "id": "ZOhRfdv5Mwzv"
      },
      "execution_count": null,
      "outputs": []
    },
    {
      "cell_type": "markdown",
      "source": [
        "We check if there are missing values in any of the columns we are going to use for the map"
      ],
      "metadata": {
        "id": "46_HC6iAMxuW"
      }
    },
    {
      "cell_type": "code",
      "source": [
        "df_tomap.info()"
      ],
      "metadata": {
        "id": "6qvmB_TOMy3f",
        "colab": {
          "base_uri": "https://localhost:8080/"
        },
        "outputId": "06a0ec7a-1266-4ac7-c6df-a540a3bbe429"
      },
      "execution_count": 113,
      "outputs": [
        {
          "output_type": "stream",
          "name": "stdout",
          "text": [
            "<class 'pandas.core.frame.DataFrame'>\n",
            "Int64Index: 40 entries, 2364 to 2681\n",
            "Data columns (total 18 columns):\n",
            " #   Column          Non-Null Count  Dtype  \n",
            "---  ------          --------------  -----  \n",
            " 0   courseName      40 non-null     object \n",
            " 1   universityName  40 non-null     object \n",
            " 2   facultyName     40 non-null     object \n",
            " 3   isItFullTime    40 non-null     object \n",
            " 4   description     40 non-null     object \n",
            " 5   startDate       40 non-null     object \n",
            " 6   fees            40 non-null     object \n",
            " 7   modality        40 non-null     object \n",
            " 8   duration        40 non-null     object \n",
            " 9   city            40 non-null     object \n",
            " 10  country         40 non-null     object \n",
            " 11  administration  35 non-null     object \n",
            " 12  url             40 non-null     object \n",
            " 13  descr_stem      40 non-null     object \n",
            " 14  fees_usd        1 non-null      float64\n",
            " 15  combined        40 non-null     object \n",
            " 16  latitude        40 non-null     float64\n",
            " 17  longitude       40 non-null     float64\n",
            "dtypes: float64(3), object(15)\n",
            "memory usage: 5.9+ KB\n"
          ]
        }
      ]
    },
    {
      "cell_type": "markdown",
      "source": [
        "We use the library Folium to create a map where we will locate all our courses. For the courses in the same city we utilize a clustering tool that, if clicked, will return all the courses in that specific location:"
      ],
      "metadata": {
        "id": "hxObyX9VMzfP"
      }
    },
    {
      "cell_type": "code",
      "source": [
        "# We create a map and we center it on the mean of the coordinates\n",
        "mappa = folium.Map(location=[df_tomap['latitude'].mean(), df_tomap['longitude'].mean()], zoom_start=5)\n",
        "cluster = MarkerCluster().add_to(mappa)"
      ],
      "metadata": {
        "id": "ALCmhG-rM0ft"
      },
      "execution_count": 114,
      "outputs": []
    },
    {
      "cell_type": "code",
      "source": [
        "# We customize the popup and the markers that will appear for each course\n",
        "for indice, riga in df_tomap.iterrows():\n",
        "    popup_html = f\"<strong>Course:</strong> {riga['courseName']}<br><strong>University:</strong> {riga['universityName']}<br><strong>Fees:</strong> {riga['fees']}<br><strong>City:</strong></font> {riga['city']}<br><strong>Country:</strong> {riga['country']}\"\n",
        "    folium.Marker(location=[riga['latitude'], riga['longitude']], popup=folium.Popup(popup_html, max_width=300)).add_to(cluster)"
      ],
      "metadata": {
        "id": "iFe8p0SbM1Fu"
      },
      "execution_count": 115,
      "outputs": []
    },
    {
      "cell_type": "markdown",
      "source": [
        "We finally save the map in an html format"
      ],
      "metadata": {
        "id": "vaES7Fz9M1qT"
      }
    },
    {
      "cell_type": "code",
      "source": [
        "mappa.save('map.html')"
      ],
      "metadata": {
        "id": "ag1xheB6M2Rg"
      },
      "execution_count": 116,
      "outputs": []
    },
    {
      "cell_type": "markdown",
      "source": [
        "# 5. BONUS: More complex search engine"
      ],
      "metadata": {
        "id": "_er3Gv0EiAiF"
      }
    },
    {
      "cell_type": "markdown",
      "source": [
        "# 6. Command Line Question"
      ],
      "metadata": {
        "id": "zP7CTFiYiED6"
      }
    },
    {
      "cell_type": "markdown",
      "source": [
        "First we are going to merge to create the .tsv file we will be working with.\n",
        "The file was created with \">\" just the names of each category we have and then we added all the course rows via \">>\""
      ],
      "metadata": {
        "id": "H-QKbnFI_QMt"
      }
    },
    {
      "cell_type": "code",
      "source": [
        "#!/bin/bash\n",
        "cat tsv/column_names.tsv > merged_courses.tsv\n",
        "cat tsv/course_*.tsv >> merged_courses.tsv"
      ],
      "metadata": {
        "id": "deJmV2A4-751"
      },
      "execution_count": null,
      "outputs": []
    },
    {
      "cell_type": "markdown",
      "source": [
        "From now on we will use the command \"awk -F '/t'\" to make sure that the .tsv created is tabulated well and that you can navigate within the column.\n"
      ],
      "metadata": {
        "id": "Tm3zW12l_Xza"
      }
    },
    {
      "cell_type": "markdown",
      "source": [
        "## Country with the highest number of Master's degrees"
      ],
      "metadata": {
        "id": "YFwk3-1Z_dJQ"
      }
    },
    {
      "cell_type": "markdown",
      "source": [
        "For the first question via \"print 11\" prints all the countries in the dataset, they are then put in order with \"sort,\" duplicates removed, and a count done for each tamite \"uniq -c.\".\n",
        "They were then put in descending order based on the count just done with \"sort -nr\" and finally only the first row with country name and college number is extracted through\n",
        "\n",
        "\"awk '{print 2 \" \" 3 \" \" 1}' | head -n 1\".\n"
      ],
      "metadata": {
        "id": "TeVM9fyi_n0y"
      }
    },
    {
      "cell_type": "code",
      "source": [
        "most_courses_country=$(awk -F'\\t' '{print $11}' merged_courses.tsv | sort | uniq -c | sort -nr | awk '{print $2 \" \" $3 \" \" $1}' | head -n 1)\n",
        "echo \"Country that offers the most Master's Degrees: $most_courses_country\""
      ],
      "metadata": {
        "id": "l9WROfLC_mpG"
      },
      "execution_count": null,
      "outputs": []
    },
    {
      "cell_type": "markdown",
      "source": [
        "## City with the highest number of Master's degrees"
      ],
      "metadata": {
        "id": "xTF-pfRzATAH"
      }
    },
    {
      "cell_type": "markdown",
      "source": [
        "The same commands listed and explained before are used here only difference takes into account column 10 which corresponds to cities.\n"
      ],
      "metadata": {
        "id": "ug8q_Y0fAWrw"
      }
    },
    {
      "cell_type": "code",
      "source": [
        "most_courses_city=$(awk -F'\\t' '{print $10}' merged_courses.tsv | sort | uniq -c | sort -nr | awk '{print $2 \" \" $1}' | head -n 1)\n",
        "echo \"City offers the most Master's Degrees: $most_courses_city\""
      ],
      "metadata": {
        "id": "GD0qaKZoAaBb"
      },
      "execution_count": null,
      "outputs": []
    },
    {
      "cell_type": "markdown",
      "source": [
        "## Number of colleges with part-time education"
      ],
      "metadata": {
        "id": "sSUEhIoqAcZ2"
      }
    },
    {
      "cell_type": "markdown",
      "source": [
        "In this other question, the command \"$4 ~ /Part time/\" is used to blind and select the rows that have the words \"Part time\" in the fourth column, the command \"wc -l\" is used to count the rows obtained.\n"
      ],
      "metadata": {
        "id": "O_V5I0miAfbR"
      }
    },
    {
      "cell_type": "code",
      "source": [
        "num_part_time_colleges=$(awk -F'\\t' '$4 ~ /Part time/ {print $2}' merged_courses.tsv | sort | uniq | wc -l)\n",
        "echo \"Number of colleges offer Part-Time education: $num_part_time_colleges\""
      ],
      "metadata": {
        "id": "RuHAf4yOAk0b"
      },
      "execution_count": null,
      "outputs": []
    },
    {
      "cell_type": "markdown",
      "source": [
        "## Percentage of courses in engineering"
      ],
      "metadata": {
        "id": "NyCNniRKAn5I"
      }
    },
    {
      "cell_type": "markdown",
      "source": [
        "As in the last question we look in the first column for rows that have this time \"Engineering|Engineer\" and that is, that have in their name the word \"Engineering\" or (\"|\") \"Engineer\"\n",
        "\n",
        "In this last question, I specifically used the command \"printf \\\"%.2f\\\"\" which goes to format the output to 2 decimal places, and I used \"BEGIN{...}\" which if I had not used it the calculation would have been performed for each line of the input file, resulting in incorrect behavior for the desired objective.\n",
        "\n",
        "This is because this command causes everything in the curly brackets to be executed before scrolling through all the rows.\n"
      ],
      "metadata": {
        "id": "i6VGK4jYAq3u"
      }
    },
    {
      "cell_type": "code",
      "source": [
        "engineering_courses=$(awk -F '\\t' '$1 ~ /Engineering|Engineer/ {print}' merged_courses.tsv | wc -l)\n",
        "percentage=$(awk \"BEGIN {printf \\\"%.2f\\\", ($engineering_courses /6000) * 100}\")\n",
        "echo \"Percentage of courses in Engineering: $percentage%\""
      ],
      "metadata": {
        "id": "A4VR47mrA0uz"
      },
      "execution_count": null,
      "outputs": []
    },
    {
      "cell_type": "markdown",
      "source": [
        "# 7. Algorithmic Question"
      ],
      "metadata": {
        "id": "YIGPEGRZiHg9"
      }
    },
    {
      "cell_type": "markdown",
      "source": [
        "To solve the problem we create the function fakereport(), which firstly checks if the report can be created with the constraints given, and if the answer is yes, it iterates over all the combinations of hours for each day until it finds the one that is equal to sumhours."
      ],
      "metadata": {
        "id": "rRsj-eSg54yM"
      }
    },
    {
      "cell_type": "code",
      "source": [
        "from itertools import product\n",
        "\n",
        "def fakereport():\n",
        "    d,sumhours=map(int,input().split())\n",
        "    mintime=[]\n",
        "    maxtime=[]\n",
        "    for i in range(0,d):                         # O(d)\n",
        "        mini,maxi=map(int,input().split())\n",
        "        mintime.append(mini)\n",
        "        maxtime.append(maxi)\n",
        "    if sum(mintime)>sumhours or sum(maxtime)<sumhours:              # O(1)\n",
        "        print('NO')\n",
        "    else:\n",
        "        liste= [list(range(mintime[i],maxtime[i]+1)) for i in range(d)]   # O(d)\n",
        "        for i in list(product(*[lista for lista in liste])):              # O(n^d)  where n is the max length a list of daily working hours can be\n",
        "            if sum(i) == sumhours:                                        # O(n^d)\n",
        "                print('YES')                                              # O(1)\n",
        "                print(' '.join(map(str, i)))                              # O(1)\n",
        "                break\n"
      ],
      "metadata": {
        "id": "t4QO8mc255Rb"
      },
      "execution_count": 118,
      "outputs": []
    },
    {
      "cell_type": "markdown",
      "source": [
        "### Tests"
      ],
      "metadata": {
        "id": "vY1oUmeKNSSi"
      }
    },
    {
      "cell_type": "code",
      "source": [
        "fakereport()"
      ],
      "metadata": {
        "id": "rx1x01rbNW9t",
        "colab": {
          "base_uri": "https://localhost:8080/"
        },
        "outputId": "690e8ace-41e0-4de3-a181-97b9a4bcd4de"
      },
      "execution_count": 119,
      "outputs": [
        {
          "output_type": "stream",
          "name": "stdout",
          "text": [
            "2 5\n",
            "0 1\n",
            "3 5\n",
            "YES\n",
            "0 5\n"
          ]
        }
      ]
    },
    {
      "cell_type": "code",
      "source": [
        "fakereport()"
      ],
      "metadata": {
        "id": "mWFpJRuZNlSz",
        "colab": {
          "base_uri": "https://localhost:8080/"
        },
        "outputId": "8aaba609-0666-4bec-f990-1e320f249ded"
      },
      "execution_count": 120,
      "outputs": [
        {
          "output_type": "stream",
          "name": "stdout",
          "text": [
            "1 1\n",
            "5 6\n",
            "NO\n"
          ]
        }
      ]
    },
    {
      "cell_type": "markdown",
      "source": [
        "\n",
        "\n",
        "### What is the time complexity (the Big O notation) of your solution? Please provide a detailed explanation of how you calculated the time complexity.\n",
        "\n"
      ],
      "metadata": {
        "id": "umJFNEuw9Lr2"
      }
    },
    {
      "cell_type": "markdown",
      "source": [
        "To  check the time complexity of the function each operation of the algorithm was analyzed. It was noted that the most time consuming operation was the iteration over the cartesian product of the lists containing the number of hours worked everyday.\n",
        "\n",
        "The conclusion is that the maximun time that this funtion can run is equal to the longest possible list of hours worked every day to the power of d, the days worked, so the Big O notation would be O(n^d)."
      ],
      "metadata": {
        "id": "DM-T3Kfa7eU5"
      }
    },
    {
      "cell_type": "markdown",
      "source": [
        "### Ask ChatGPT or any other LLM chatbot tool to check your code's time complexity (the Big O notation). Compare your answer to theirs. Do you believe this is correct? If the two differ, which one is right? (why?)"
      ],
      "metadata": {
        "id": "pkoGgE9_904w"
      }
    },
    {
      "cell_type": "markdown",
      "source": [
        "The following is the analysis of ChatGPT:\n",
        "\n",
        "1. **Reading `d` and `sumhours`:** This involves constant time operations, making it O(1) complexity.\n",
        "\n",
        "2. **For loop to read `mini` and `maxi`:** The for loop runs for `d` iterations. Within each iteration, there are constant time operations. Thus, the complexity of this block is O(d).\n",
        "\n",
        "3. **Creating the lists `mintime` and `maxtime`:** `d` operations are performed to add elements to the lists. So, the complexity of this part is O(d).\n",
        "\n",
        "4. **Creating the list `liste`:** This part involves creating a nested list that can have up to `maxtime[i] - mintime[i] + 1` elements. Therefore, the complexity of this part is O(n), where `n` is the sum of the lengths of the lists created.\n",
        "\n",
        "5. **For loop using the `product` function:** The `product` function generates the Cartesian product of all the lists in `liste`. The complexity of this part is O(m^n), where `m` is the maximum length of a sublist in `liste` (fixed at `sumhours`) and `n` is the total number of sublists (fixed at `d`).\n",
        "\n",
        "In terms of the overall asymptotic time complexity, the dominant part is the for loop using the `product` function. Therefore, the total time complexity of your algorithm seems to be O(sumhours^d).\n"
      ],
      "metadata": {
        "id": "OKe4b7SpBnNY"
      }
    },
    {
      "cell_type": "markdown",
      "source": [
        "We can see that the two solution are pretty similar wih the exception that ChatGPT considers sumhours as the max length a list can be. Actually, this is not specified so the lists could be longer, but thinking about it it's correct, because, if the contraint are respected, the function will never iterate over a longer list, because the solution would surely be found before."
      ],
      "metadata": {
        "id": "07zieAQeCuAn"
      }
    },
    {
      "cell_type": "markdown",
      "source": [
        "### What do you think of the optimality of your code? Do you believe it is optimal? Can you improve? Please elaborate on your response."
      ],
      "metadata": {
        "id": "ZPuFq7yF94Ea"
      }
    },
    {
      "cell_type": "markdown",
      "source": [
        "Looking at my code, the thing that could improve the optimality of the funtion is probably the implementation of the creation of the lists containing all the hours worked in a single day in the for loop containing the product function, so that everything is executed at once.\n",
        "\n",
        "But since the operation of creating the lists is way shorter than the *product function that makes the cartesian product, and merging the two wouldn't improve the asimptotical behavior of the function, I decided to put the two operation in two different lines to make the code more readable."
      ],
      "metadata": {
        "id": "HNYY3EckJNes"
      }
    }
  ]
}